{
 "cells": [
  {
   "cell_type": "code",
   "execution_count": 2,
   "id": "526386fc-9706-4ff6-a799-ca2d13358793",
   "metadata": {},
   "outputs": [],
   "source": [
    "import numpy as np\n",
    "import pandas as pd\n",
    "import matplotlib.pyplot as plt\n",
    "import seaborn as sns\n",
    "import librosa\n",
    "import os"
   ]
  },
  {
   "cell_type": "code",
   "execution_count": 22,
   "id": "b41ec0c3-8d91-4a2a-9bbf-cec2c1995fc6",
   "metadata": {},
   "outputs": [],
   "source": [
    "file_paths = []\n",
    "\n",
    "emotions = []\n",
    "\n",
    "folder = 'E:\\Storage\\PRML\\Course Project\\Speech_Emotion_Recognition'\n",
    "\n",
    "for i in range(24):\n",
    "\n",
    "    subfolder = f\"Actor_{str(i+1).zfill(2)}\"\n",
    "\n",
    "    directory = os.path.join(folder,subfolder)\n",
    "\n",
    "    for filename in os.listdir(directory):\n",
    "\n",
    "        path_file = os.path.join(directory,filename)\n",
    "\n",
    "        file_paths.append(path_file)\n",
    "\n",
    "        emotions.append(filename.split('-')[2])\n",
    "\n",
    "Data = pd.DataFrame(np.c_[file_paths,emotions],columns=['Path','Emotion'],).sample(frac=1).reset_index(inplace=False).drop(columns='index')\n",
    "\n"
   ]
  },
  {
   "cell_type": "code",
   "execution_count": null,
   "id": "3b0f7046-f9f2-4fc1-9952-d9dabbf24771",
   "metadata": {},
   "outputs": [],
   "source": []
  }
 ],
 "metadata": {
  "kernelspec": {
   "display_name": "Python 3 (ipykernel)",
   "language": "python",
   "name": "python3"
  },
  "language_info": {
   "codemirror_mode": {
    "name": "ipython",
    "version": 3
   },
   "file_extension": ".py",
   "mimetype": "text/x-python",
   "name": "python",
   "nbconvert_exporter": "python",
   "pygments_lexer": "ipython3",
   "version": "3.9.6"
  }
 },
 "nbformat": 4,
 "nbformat_minor": 5
}
