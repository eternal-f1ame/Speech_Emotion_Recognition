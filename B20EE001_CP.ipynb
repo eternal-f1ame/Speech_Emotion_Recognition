{
 "cells": [
  {
   "cell_type": "code",
   "execution_count": 11,
   "id": "526386fc-9706-4ff6-a799-ca2d13358793",
   "metadata": {},
   "outputs": [],
   "source": [
    "import numpy as np\n",
    "import pandas as pd\n",
    "import matplotlib.pyplot as plt\n",
    "import seaborn as sns\n",
    "import librosa\n",
    "import os"
   ]
  },
  {
   "cell_type": "code",
   "execution_count": 7,
   "id": "b41ec0c3-8d91-4a2a-9bbf-cec2c1995fc6",
   "metadata": {},
   "outputs": [],
   "source": [
    "folder = {}\n",
    "for i in range(24):\n",
    "    folder[i] = f\"Actor_{str(i+1).zfill(2)}\""
   ]
  },
  {
   "cell_type": "code",
   "execution_count": null,
   "id": "87b68f47-131c-4cc6-8841-99b1a915f4dc",
   "metadata": {},
   "outputs": [],
   "source": []
  },
  {
   "cell_type": "code",
   "execution_count": null,
   "id": "3b0f7046-f9f2-4fc1-9952-d9dabbf24771",
   "metadata": {},
   "outputs": [],
   "source": []
  }
 ],
 "metadata": {
  "kernelspec": {
   "display_name": "Python 3 (ipykernel)",
   "language": "python",
   "name": "python3"
  },
  "language_info": {
   "codemirror_mode": {
    "name": "ipython",
    "version": 3
   },
   "file_extension": ".py",
   "mimetype": "text/x-python",
   "name": "python",
   "nbconvert_exporter": "python",
   "pygments_lexer": "ipython3",
   "version": "3.9.6"
  }
 },
 "nbformat": 4,
 "nbformat_minor": 5
}
