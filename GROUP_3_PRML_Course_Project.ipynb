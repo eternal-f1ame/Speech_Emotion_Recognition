{
 "cells": [
  {
   "cell_type": "markdown",
   "metadata": {},
   "source": [
    "# Speech Emotion Recognition\n",
    "## PRML Course Project"
   ]
  },
  {
   "cell_type": "markdown",
   "metadata": {},
   "source": [
    "### Loading the Important libraries and Modules"
   ]
  },
  {
   "cell_type": "code",
   "execution_count": 38,
   "metadata": {},
   "outputs": [],
   "source": [
    "import numpy as np\n",
    "import pandas as pd\n",
    "import matplotlib.pyplot as plt\n",
    "import seaborn as sns\n",
    "import librosa\n",
    "import librosa.display\n",
    "import os\n",
    "import glob\n",
    "import pickle\n",
    "\n",
    "from sklearn.svm import SVC\n",
    "from sklearn.linear_model import PassiveAggressiveClassifier,LogisticRegression\n",
    "from sklearn.neural_network import MLPClassifier\n",
    "from sklearn.model_selection import train_test_split\n",
    "from sklearn.preprocessing import LabelEncoder,MinMaxScaler,OneHotEncoder,StandardScaler\n",
    "from sklearn.metrics import accuracy_score,classification_report\n",
    "\n",
    "from tensorflow.python.keras.models import Sequential,Model\n",
    "from tensorflow.keras.optimizers import Adam, RMSprop\n",
    "from tensorflow.keras.losses import categorical_crossentropy\n",
    "from tensorflow.keras.layers import Add,LSTM,Dense,Conv1D,InputLayer,Activation,InputLayer,BatchNormalization,Flatten,Dropout,Conv1D,MaxPooling1D\n",
    "from tensorflow.keras.activations import relu,softmax\n",
    "from tensorflow.keras.models import Sequential\n",
    "from tensorflow.keras.activations import relu,softmax\n",
    "from tensorflow.keras.optimizers import Adam\n",
    "from tensorflow.keras.losses import categorical_crossentropy\n",
    "from tensorflow.keras.utils import to_categorical\n",
    "import tensorflow as tf\n",
    "tf.config.run_functions_eagerly(True)\n",
    "\n",
    "sc = StandardScaler()\n",
    "enc = LabelEncoder()\n",
    "mms = MinMaxScaler()\n",
    "oh = OneHotEncoder()\n",
    "sns.set_style('darkgrid')\n",
    "\n",
    "emotions_encoder = {\n",
    "    '01': 'Neutral',\n",
    "    '02': 'Calm',\n",
    "    '03': 'Happy',\n",
    "    '04': 'Sad',\n",
    "    '05': 'Angry',\n",
    "    '06': 'Fearful',\n",
    "    '07': 'Disgust',\n",
    "    '08': 'Surprised'\n",
    "}\n",
    "\n",
    "observed_emotions = [x for x in emotions_encoder.values()]"
   ]
  },
  {
   "cell_type": "markdown",
   "metadata": {},
   "source": [
    "## The created Pipeline <code>Feature()</code> \n",
    "### Takes in the series of Paths of the audio files in the device, <br>loads them into time series data in the <code>extract_features()</code> through <code>engineer()</code>function, and further extracts the relevant features out of the time series data by :-\n",
    "* Frequency Sampling\n",
    "* Fourier Analysis\n",
    "* Slope Change for the wave\n",
    "### All of which is facilitated by <code>extract_feature()</code> and its input parameters."
   ]
  },
  {
   "cell_type": "code",
   "execution_count": 2,
   "metadata": {},
   "outputs": [],
   "source": [
    "class Feature():\n",
    "\n",
    "    def __init__(self, mfcc=True, chroma=True, mel=True, zcr=True, spread=True, mean=True):\n",
    "        self.mfcc = mfcc\n",
    "        self.chroma = chroma\n",
    "        self.mel = mel\n",
    "        self.zcr = zcr\n",
    "        self.spread = spread\n",
    "        self.mean = mean\n",
    "\n",
    "    def extract_feature(self,file_name,augmented = str()):\n",
    "        data = []    \n",
    "        X,sample_rate = librosa.load(path=file_name,duration=2.5,offset=0.5)\n",
    "        if augmented.lower() == \"noised\":\n",
    "            noise_amp = 0.05*np.random.uniform()*np.amax(X)\n",
    "            X = X + noise_amp*np.random.normal(size=X.shape[0])\n",
    "\n",
    "        elif augmented.lower() == \"stretched\":\n",
    "            X = librosa.effects.time_stretch(X, 0.8)\n",
    "\n",
    "        elif augmented.lower() == \"rolled\":\n",
    "            shift_range = int(np.random.uniform(low=-5, high = 5)*1000)\n",
    "            X = np.roll(X, shift_range)\n",
    "\n",
    "        elif augmented.lower() == \"pitchedd\":\n",
    "            sampling_rate = self.sampling_rate\n",
    "            X = librosa.effects.pitch_shift(X, sampling_rate, self.pitch_factor)\n",
    "\n",
    "        data.append(X)\n",
    "        self.sample_rate = sample_rate\n",
    "        result=np.array([])\n",
    "\n",
    "        if self.mfcc:\n",
    "            mfccs=np.mean(librosa.feature.mfcc(y=X, sr=sample_rate, n_mfcc=40).T, axis=0)\n",
    "            result=np.hstack((result, mfccs))\n",
    "\n",
    "        if self.chroma:\n",
    "            stft=np.abs(librosa.stft(X))\n",
    "            chroma=np.mean(librosa.feature.chroma_stft(S=stft, sr=sample_rate,n_chroma=32).T,axis=0)\n",
    "            result=np.hstack((result, chroma))\n",
    "\n",
    "        if self.mel:\n",
    "            mel=np.mean(librosa.feature.melspectrogram(X, sr=sample_rate,n_fft=2048).T,axis=0)\n",
    "            result=np.hstack((result, mel))\n",
    "\n",
    "        if self.zcr:\n",
    "            Z = np.mean(librosa.feature.zero_crossing_rate(y=X),axis=1)\n",
    "            result=np.hstack((result, Z))\n",
    "\n",
    "        if self.spread:\n",
    "            var = np.var(X)\n",
    "            result=np.hstack((result, var))\n",
    "\n",
    "        if self.mean:\n",
    "            mean = np.mean(X)\n",
    "            result=np.hstack((result, mean))\n",
    "\n",
    "        return result\n",
    "\n",
    "    def engineer(self,Paths=[],augmented = str()):\n",
    "        X = []        \n",
    "        self.Paths = Paths\n",
    "        for file in Paths:\n",
    "            feature=self.extract_feature(file)\n",
    "            X.append(feature)\n",
    "        self.features = X\n",
    "\n",
    "        return np.array(X)\n",
    "\n"
   ]
  },
  {
   "cell_type": "markdown",
   "metadata": {},
   "source": [
    "### Loading the paths in a pandas series and encoding labels to usable formats."
   ]
  },
  {
   "cell_type": "code",
   "execution_count": 3,
   "metadata": {},
   "outputs": [],
   "source": [
    "X,Y=[],[]\n",
    "\n",
    "for file in glob.glob(\"Data/Actor_*/*.wav\"):\n",
    "    file_name=os.path.basename(file)\n",
    "    emotion=emotions_encoder[file_name.split(\"-\")[2]]\n",
    "    X.append(file)\n",
    "    Y.append(emotion)\n",
    "Y_ = LabelEncoder().fit_transform(Y)\n",
    "Y_oh = OneHotEncoder().fit_transform(Y_.reshape(-1,1)).toarray()\n",
    "\n"
   ]
  },
  {
   "cell_type": "markdown",
   "metadata": {},
   "source": [
    "#### Class Frequencies"
   ]
  },
  {
   "cell_type": "code",
   "execution_count": 4,
   "metadata": {},
   "outputs": [
    {
     "data": {
      "image/png": "[encoded data removed]",
      "text/plain": [
       "<Figure size 1152x432 with 1 Axes>"
      ]
     },
     "metadata": {},
     "output_type": "display_data"
    }
   ],
   "source": [
    "plt.figure(figsize=(16,6))\n",
    "sns.countplot(x = Y)\n",
    "plt.ylabel(\"Frequency of occurence\",fontdict={'fontsize':15})\n",
    "plt.xlabel(\"Emotion in the Audio\",fontdict={'fontsize':15})\n",
    "plt.tight_layout()\n",
    "plt.show()"
   ]
  },
  {
   "cell_type": "markdown",
   "metadata": {},
   "source": [
    "# Loading Data and Models"
   ]
  },
  {
   "cell_type": "markdown",
   "metadata": {},
   "source": [
    "## ALL Data ( MFCC , Chroma , MEL )"
   ]
  },
  {
   "cell_type": "markdown",
   "metadata": {},
   "source": [
    "### Loading all the relevant features using the pipeline to train supervised models on them\n"
   ]
  },
  {
   "cell_type": "code",
   "execution_count": 5,
   "metadata": {},
   "outputs": [],
   "source": [
    "Feat_all = Feature(spread=False,zcr=False,mean=False)\n",
    "x_train,x_test,y_train,y_test = train_test_split(X,Y_,train_size=0.8)\n",
    "Non_Augmented = Feat_all.engineer(x_train)\n",
    "alltest = Feat_all.engineer(x_test)\n"
   ]
  },
  {
   "cell_type": "markdown",
   "metadata": {},
   "source": [
    "### Augmented versions of the Data are loaded too"
   ]
  },
  {
   "cell_type": "code",
   "execution_count": 6,
   "metadata": {},
   "outputs": [],
   "source": [
    "noised = Feat_all.engineer(x_train,augmented=\"noised\")\n",
    "stretched = Feat_all.engineer(x_train,augmented='stretched')\n",
    "rolled = Feat_all.engineer(x_train,augmented='rolled')\n",
    "pitched = Feat_all.engineer(x_train,augmented='pitched')"
   ]
  },
  {
   "cell_type": "markdown",
   "metadata": {},
   "source": [
    "## Shallow MLP"
   ]
  },
  {
   "cell_type": "code",
   "execution_count": 7,
   "metadata": {},
   "outputs": [],
   "source": [
    "def ShallowMLP(Xtrain,Ytrain,Xtest,Ytest):\n",
    "    mod1=MLPClassifier(hidden_layer_sizes=(256,128,64,32),validation_fraction=0.2,early_stopping=True,learning_rate_init=0.001)\n",
    "    mod1.fit((sc.fit_transform(Xtrain)),Ytrain)\n",
    "    print(classification_report(mod1.predict(sc.transform(Xtest)),Ytest))"
   ]
  },
  {
   "cell_type": "markdown",
   "metadata": {},
   "source": [
    "## SVM (RBF Kernel)"
   ]
  },
  {
   "cell_type": "code",
   "execution_count": 8,
   "metadata": {},
   "outputs": [],
   "source": [
    "def SVM_Model(Xtrain,Ytrain,Xtest,Ytest):\n",
    "    svm = SVC(C = 100)\n",
    "    svm.fit((sc.fit_transform(Xtrain)),Ytrain)\n",
    "    print(classification_report(svm.predict(sc.transform(Xtest)),Ytest))\n"
   ]
  },
  {
   "cell_type": "markdown",
   "metadata": {},
   "source": [
    "## Logistic Regression"
   ]
  },
  {
   "cell_type": "code",
   "execution_count": 9,
   "metadata": {},
   "outputs": [],
   "source": [
    "def Log_Regressor(Xtrain,Ytrain,Xtest,Ytest):\n",
    "    LR = LogisticRegression(max_iter=10000)\n",
    "    LR.fit(sc.fit_transform(Xtrain),Ytrain)\n",
    "    print(classification_report(LR.predict(sc.transform(Xtest)),Ytest))"
   ]
  },
  {
   "cell_type": "markdown",
   "metadata": {},
   "source": [
    "## Passive Aggressive Classifier "
   ]
  },
  {
   "cell_type": "code",
   "execution_count": 10,
   "metadata": {},
   "outputs": [],
   "source": [
    "def PAClassifier(Xtrain,Ytrain,Xtest,Ytest):\n",
    "    pac = PassiveAggressiveClassifier(max_iter=10000)\n",
    "    pac.fit(sc.fit_transform(Xtrain),Ytrain)\n",
    "    print(classification_report(pac.predict(sc.transform(Xtest)),Ytest))"
   ]
  },
  {
   "cell_type": "markdown",
   "metadata": {},
   "source": [
    "## K Nearest Neighbour"
   ]
  },
  {
   "cell_type": "code",
   "execution_count": 11,
   "metadata": {},
   "outputs": [],
   "source": [
    "from sklearn.neighbors import KNeighborsClassifier\n",
    "\n",
    "def KNN(Xtrain,Ytrain,Xtest,Ytest):\n",
    "    r = [1]\n",
    "    acc = []\n",
    "    for k in r:\n",
    "        knn = KNeighborsClassifier(n_neighbors=k, weights='distance')\n",
    "        knn.fit((sc.fit_transform(Xtrain)),Ytrain)\n",
    "        print(classification_report(knn.predict(sc.transform(Xtest)),Ytest))   "
   ]
  },
  {
   "cell_type": "markdown",
   "metadata": {},
   "source": [
    "## One Dimensional CNN"
   ]
  },
  {
   "cell_type": "code",
   "execution_count": 12,
   "metadata": {},
   "outputs": [],
   "source": [
    "def One_D_CNN(Xtrain,Ytrain,Xtest,Ytest):\n",
    "\n",
    "    model = Sequential()\n",
    "    model.add(InputLayer(input_shape=(200,1)))\n",
    "    model.add(Conv1D(32,3,padding=\"same\",activation=relu))\n",
    "    model.add(Conv1D(64,3,padding=\"same\",activation=relu))\n",
    "    model.add(Dropout(0.25))\n",
    "    model.add(BatchNormalization())\n",
    "    model.add(MaxPooling1D(pool_size=4,strides=2))\n",
    "    model.add(Conv1D(128,3,padding=\"same\",activation=relu))\n",
    "    model.add(Flatten())\n",
    "    model.add(Dense(8,activation=softmax))\n",
    "    model.compile(loss=categorical_crossentropy,optimizer=Adam(),metrics=\"accuracy\")\n",
    "    print(model.summary())\n",
    "\n",
    "    model.fit(np.expand_dims(sc.fit_transform(Xtrain), -1),to_categorical(Ytrain),\n",
    "            validation_data=(np.expand_dims(sc.fit_transform(Xtest), -1),to_categorical(Ytest)),\n",
    "            epochs=40, batch_size=128,)\n",
    "    y_pred = model.predict(np.expand_dims(sc.fit_transform(Xtest), -1))\n",
    "    print(classification_report(np.argmax(y_pred, -1), Ytest))\n"
   ]
  },
  {
   "cell_type": "markdown",
   "metadata": {},
   "source": [
    "## XGBoost"
   ]
  },
  {
   "cell_type": "code",
   "execution_count": 13,
   "metadata": {},
   "outputs": [],
   "source": [
    "from xgboost import XGBClassifier\n",
    "def XGBC(Xtrain,Ytrain,Xtest,Ytest):\n",
    "    xgb = XGBClassifier()\n",
    "    xgb.fit(Xtrain,Ytrain)\n",
    "    Ypred = xgb.predict(Xtest)\n",
    "    print(classification_report(Ypred,Ytest))\n",
    "\n"
   ]
  },
  {
   "cell_type": "markdown",
   "metadata": {},
   "source": [
    "## LSTM Model"
   ]
  },
  {
   "cell_type": "code",
   "execution_count": 47,
   "metadata": {},
   "outputs": [],
   "source": [
    "def LSTM_model(Xtrain,Ytrain,Xtest,Ytest):\n",
    "    def create_model_LSTM():\n",
    "        model = Sequential()\n",
    "        model.add(LSTM(128, return_sequences=False, input_shape=(Xtrain.shape[1], 1)))\n",
    "        model.add(Dense(64))\n",
    "        model.add(Dropout(0.4))\n",
    "        model.add(Activation('relu'))\n",
    "        model.add(Dense(32))\n",
    "        model.add(Dropout(0.4))\n",
    "        model.add(Activation('relu'))\n",
    "        model.add(Dense(8,activation=relu))\n",
    "        model.add(Dense(1))\n",
    "        model.add(Activation('softmax'))\n",
    "        model.compile(loss=categorical_crossentropy, optimizer=Adam(), metrics=['accuracy'])\n",
    "        return model\n",
    "\n",
    "    model = create_model_LSTM()\n",
    "    model.fit(np.expand_dims(Xtrain,-1),Ytrain,epochs=50)\n",
    "    ypred = model.predict(np.expand_dims(Xtest,-1))\n",
    "    print(classification_report(ypred,Ytest))\n",
    "\n"
   ]
  },
  {
   "cell_type": "markdown",
   "metadata": {},
   "source": [
    "## SVM on Original Data"
   ]
  },
  {
   "cell_type": "code",
   "execution_count": 52,
   "metadata": {},
   "outputs": [],
   "source": [
    "rbf_acc_train = []\n",
    "rbf_acc_test = []\n",
    "max_const = 50\n",
    "test = Feat_all.engineer(x_test)\n",
    "for gen_const in range(0,max_const,2):\n",
    "    rbf_model = SVC(C=(gen_const+1),kernel='rbf')\n",
    "    rbf_model.fit(sc.fit_transform(Non_Augmented),y_train)\n",
    "    rbf_results_train = rbf_model.predict(sc.transform(Non_Augmented))\n",
    "    rbf_results_test = rbf_model.predict(sc.transform(test))\n",
    "    rbf_acc_train.append(accuracy_score(rbf_results_train,y_train))\n",
    "    rbf_acc_test.append(accuracy_score(rbf_results_test,y_test))\n",
    "rbfm = np.argmax(rbf_acc_test)"
   ]
  },
  {
   "cell_type": "code",
   "execution_count": 53,
   "metadata": {},
   "outputs": [
    {
     "data": {
      "image/png": "[encoded data removed]",
      "text/plain": [
       "<Figure size 1728x576 with 2 Axes>"
      ]
     },
     "metadata": {},
     "output_type": "display_data"
    }
   ],
   "source": [
    "plt.figure('Accuracy plot RBF',figsize=(24,8))\n",
    "\n",
    "sns.set_style('darkgrid')\n",
    "plt.subplot(1,2,1)\n",
    "sns.lineplot(x=[i+1 for i in range(0,max_const,2)],y=rbf_acc_train)\n",
    "plt.xticks(ticks=[i+1 for i in range(0,max_const,2)])\n",
    "plt.xlabel(\"Generalization constant C\",fontdict={'fontsize':15})\n",
    "plt.ylabel(\"Accuracy Scores\",fontdict={'fontsize':15})\n",
    "plt.ylim([0.35, 1])\n",
    "plt.title('Training Accuracies',fontdict={'fontsize':20})\n",
    "plt.tight_layout()\n",
    "\n",
    "plt.subplot(1,2,2)\n",
    "sns.lineplot(x=[i+1 for i in range(0,max_const,2)],y=rbf_acc_test)\n",
    "plt.xticks(ticks=[i+1 for i in range(0,max_const,2)])\n",
    "plt.xlabel(\"Generalization constant C\",fontdict={'fontsize':15})\n",
    "plt.ylabel(\"Accuracy Scores\",fontdict={'fontsize':15})\n",
    "plt.ylim([0.35, 1])\n",
    "plt.title('Testing Accuracies',fontdict={'fontsize':20})\n",
    "plt.tight_layout()\n",
    "plt.show()\n"
   ]
  },
  {
   "cell_type": "markdown",
   "metadata": {},
   "source": [
    "# In the following code the models are trained in the order\n",
    "* Shallow MLP\n",
    "* SVM\n",
    "* Logistic Regresseor\n",
    "* Passive Aggressive Classifier \n",
    "* KNN\n",
    "* One D CNN\n",
    "* XGBoost\n",
    "* LSTM\n"
   ]
  },
  {
   "cell_type": "markdown",
   "metadata": {},
   "source": [
    "## MFCC\n"
   ]
  },
  {
   "cell_type": "markdown",
   "metadata": {},
   "source": [
    "### original Data"
   ]
  },
  {
   "cell_type": "code",
   "execution_count": 16,
   "metadata": {},
   "outputs": [],
   "source": [
    "Feat_mf = Feature(spread=False,zcr=False,mean=False,chroma=False,mel=False)\n",
    "mfx_train,mfx_test,mfy_train,mfy_test = train_test_split(X,Y_,train_size=0.8)\n",
    "mfNon_Augmented = Feat_mf.engineer(mfx_train)\n",
    "mftest = Feat_mf.engineer(mfx_test)"
   ]
  },
  {
   "cell_type": "code",
   "execution_count": 24,
   "metadata": {},
   "outputs": [
    {
     "name": "stdout",
     "output_type": "stream",
     "text": [
      "              precision    recall  f1-score   support\n",
      "\n",
      "           0       0.69      0.71      0.70        34\n",
      "           1       0.72      0.82      0.77        38\n",
      "           2       0.68      0.61      0.64        46\n",
      "           3       0.51      0.68      0.58        31\n",
      "           4       0.49      0.55      0.52        31\n",
      "           5       0.48      0.37      0.42        27\n",
      "           6       0.60      0.55      0.57        44\n",
      "           7       0.72      0.62      0.67        37\n",
      "\n",
      "    accuracy                           0.62       288\n",
      "   macro avg       0.61      0.61      0.61       288\n",
      "weighted avg       0.62      0.62      0.62       288\n",
      "\n"
     ]
    }
   ],
   "source": [
    "ShallowMLP(mfNon_Augmented,mfy_train,mftest,mfy_test)"
   ]
  },
  {
   "cell_type": "code",
   "execution_count": 223,
   "metadata": {},
   "outputs": [
    {
     "name": "stdout",
     "output_type": "stream",
     "text": [
      "              precision    recall  f1-score   support\n",
      "\n",
      "           0       0.93      0.68      0.79        41\n",
      "           1       0.77      0.72      0.74        46\n",
      "           2       0.68      0.63      0.66        30\n",
      "           3       0.71      0.64      0.67        45\n",
      "           4       0.67      0.86      0.76        43\n",
      "           5       0.48      0.50      0.49        20\n",
      "           6       0.66      0.75      0.70        28\n",
      "           7       0.63      0.69      0.66        35\n",
      "\n",
      "    accuracy                           0.70       288\n",
      "   macro avg       0.69      0.68      0.68       288\n",
      "weighted avg       0.71      0.70      0.70       288\n",
      "\n"
     ]
    }
   ],
   "source": [
    "SVM_Model(mfNon_Augmented,mfy_train,mftest,mfy_test)"
   ]
  },
  {
   "cell_type": "code",
   "execution_count": 224,
   "metadata": {},
   "outputs": [
    {
     "name": "stdout",
     "output_type": "stream",
     "text": [
      "              precision    recall  f1-score   support\n",
      "\n",
      "           0       0.67      0.50      0.57        40\n",
      "           1       0.44      0.49      0.46        39\n",
      "           2       0.46      0.33      0.39        39\n",
      "           3       0.29      0.29      0.29        42\n",
      "           4       0.42      0.66      0.51        35\n",
      "           5       0.19      0.33      0.24        12\n",
      "           6       0.50      0.32      0.39        50\n",
      "           7       0.32      0.39      0.35        31\n",
      "\n",
      "    accuracy                           0.41       288\n",
      "   macro avg       0.41      0.41      0.40       288\n",
      "weighted avg       0.44      0.41      0.41       288\n",
      "\n"
     ]
    }
   ],
   "source": [
    "Log_Regressor(mfNon_Augmented,mfy_train,mftest,mfy_test)"
   ]
  },
  {
   "cell_type": "code",
   "execution_count": 225,
   "metadata": {},
   "outputs": [
    {
     "name": "stdout",
     "output_type": "stream",
     "text": [
      "              precision    recall  f1-score   support\n",
      "\n",
      "           0       0.33      0.50      0.40        20\n",
      "           1       0.05      0.29      0.08         7\n",
      "           2       0.57      0.31      0.41        51\n",
      "           3       0.15      0.26      0.19        23\n",
      "           4       0.42      0.35      0.38        65\n",
      "           5       0.00      0.00      0.00         1\n",
      "           6       0.41      0.23      0.29        57\n",
      "           7       0.34      0.20      0.25        64\n",
      "\n",
      "    accuracy                           0.29       288\n",
      "   macro avg       0.28      0.27      0.25       288\n",
      "weighted avg       0.39      0.29      0.32       288\n",
      "\n"
     ]
    }
   ],
   "source": [
    "PAClassifier(mfNon_Augmented,mfy_train,mftest,mfy_test)"
   ]
  },
  {
   "cell_type": "code",
   "execution_count": 226,
   "metadata": {},
   "outputs": [
    {
     "name": "stdout",
     "output_type": "stream",
     "text": [
      "              precision    recall  f1-score   support\n",
      "\n",
      "           0       0.73      0.59      0.66        37\n",
      "           1       0.77      0.77      0.77        43\n",
      "           2       0.68      0.61      0.64        31\n",
      "           3       0.61      0.61      0.61        41\n",
      "           4       0.58      0.80      0.67        40\n",
      "           5       0.57      0.44      0.50        27\n",
      "           6       0.56      0.53      0.55        34\n",
      "           7       0.63      0.69      0.66        35\n",
      "\n",
      "    accuracy                           0.64       288\n",
      "   macro avg       0.64      0.63      0.63       288\n",
      "weighted avg       0.65      0.64      0.64       288\n",
      "\n"
     ]
    }
   ],
   "source": [
    "KNN(mfNon_Augmented,mfy_train,mftest,mfy_test)"
   ]
  },
  {
   "cell_type": "code",
   "execution_count": 227,
   "metadata": {},
   "outputs": [
    {
     "name": "stdout",
     "output_type": "stream",
     "text": [
      "Model: \"sequential_14\"\n",
      "_________________________________________________________________\n",
      "Layer (type)                 Output Shape              Param #   \n",
      "=================================================================\n",
      "conv1d_36 (Conv1D)           (None, 40, 32)            128       \n",
      "_________________________________________________________________\n",
      "conv1d_37 (Conv1D)           (None, 40, 64)            6208      \n",
      "_________________________________________________________________\n",
      "dropout_16 (Dropout)         (None, 40, 64)            0         \n",
      "_________________________________________________________________\n",
      "batch_normalization_12 (Batc (None, 40, 64)            256       \n",
      "_________________________________________________________________\n",
      "max_pooling1d_12 (MaxPooling (None, 19, 64)            0         \n",
      "_________________________________________________________________\n",
      "conv1d_38 (Conv1D)           (None, 19, 128)           24704     \n",
      "_________________________________________________________________\n",
      "flatten_12 (Flatten)         (None, 2432)              0         \n",
      "_________________________________________________________________\n",
      "dense_18 (Dense)             (None, 8)                 19464     \n",
      "=================================================================\n",
      "Total params: 50,760\n",
      "Trainable params: 50,632\n",
      "Non-trainable params: 128\n",
      "_________________________________________________________________\n",
      "None\n",
      "Epoch 1/40\n",
      "3/9 [=========>....................] - ETA: 0s - loss: 2.4204 - accuracy: 0.1484"
     ]
    },
    {
     "name": "stderr",
     "output_type": "stream",
     "text": [
      "C:\\Users\\Aaditya Baranwal\\AppData\\Local\\Programs\\Python\\Python39\\lib\\site-packages\\tensorflow\\python\\data\\ops\\dataset_ops.py:3703: UserWarning: Even though the `tf.config.experimental_run_functions_eagerly` option is set, this option does not apply to tf.data functions. To force eager execution of tf.data functions, please use `tf.data.experimental.enable.debug_mode()`.\n",
      "  warnings.warn(\n"
     ]
    },
    {
     "name": "stdout",
     "output_type": "stream",
     "text": [
      "9/9 [==============================] - 0s 53ms/step - loss: 2.2068 - accuracy: 0.1979 - val_loss: 2.0459 - val_accuracy: 0.2188\n",
      "Epoch 2/40\n",
      "9/9 [==============================] - 0s 49ms/step - loss: 1.7576 - accuracy: 0.3238 - val_loss: 2.0237 - val_accuracy: 0.2500\n",
      "Epoch 3/40\n",
      "9/9 [==============================] - 0s 49ms/step - loss: 1.5776 - accuracy: 0.4184 - val_loss: 2.0081 - val_accuracy: 0.3472\n",
      "Epoch 4/40\n",
      "9/9 [==============================] - 0s 48ms/step - loss: 1.4419 - accuracy: 0.4870 - val_loss: 1.9964 - val_accuracy: 0.3333\n",
      "Epoch 5/40\n",
      "9/9 [==============================] - 0s 48ms/step - loss: 1.3129 - accuracy: 0.5295 - val_loss: 1.9766 - val_accuracy: 0.3438\n",
      "Epoch 6/40\n",
      "9/9 [==============================] - 0s 50ms/step - loss: 1.2163 - accuracy: 0.5582 - val_loss: 1.9623 - val_accuracy: 0.3889\n",
      "Epoch 7/40\n",
      "9/9 [==============================] - 0s 49ms/step - loss: 1.1262 - accuracy: 0.6102 - val_loss: 1.9451 - val_accuracy: 0.3646\n",
      "Epoch 8/40\n",
      "9/9 [==============================] - 0s 49ms/step - loss: 1.0467 - accuracy: 0.6406 - val_loss: 1.9313 - val_accuracy: 0.3681\n",
      "Epoch 9/40\n",
      "9/9 [==============================] - 0s 50ms/step - loss: 0.9672 - accuracy: 0.6597 - val_loss: 1.9111 - val_accuracy: 0.3715\n",
      "Epoch 10/40\n",
      "9/9 [==============================] - 0s 49ms/step - loss: 0.8915 - accuracy: 0.7092 - val_loss: 1.8919 - val_accuracy: 0.3924\n",
      "Epoch 11/40\n",
      "9/9 [==============================] - 0s 51ms/step - loss: 0.8344 - accuracy: 0.7144 - val_loss: 1.8736 - val_accuracy: 0.4097\n",
      "Epoch 12/40\n",
      "9/9 [==============================] - 0s 49ms/step - loss: 0.7971 - accuracy: 0.7292 - val_loss: 1.8554 - val_accuracy: 0.3819\n",
      "Epoch 13/40\n",
      "9/9 [==============================] - 0s 52ms/step - loss: 0.7234 - accuracy: 0.7630 - val_loss: 1.8388 - val_accuracy: 0.3854\n",
      "Epoch 14/40\n",
      "9/9 [==============================] - 0s 51ms/step - loss: 0.6740 - accuracy: 0.7752 - val_loss: 1.8321 - val_accuracy: 0.3750\n",
      "Epoch 15/40\n",
      "9/9 [==============================] - 0s 51ms/step - loss: 0.6426 - accuracy: 0.7960 - val_loss: 1.8408 - val_accuracy: 0.3507\n",
      "Epoch 16/40\n",
      "9/9 [==============================] - 0s 49ms/step - loss: 0.6041 - accuracy: 0.7943 - val_loss: 1.8099 - val_accuracy: 0.3576\n",
      "Epoch 17/40\n",
      "9/9 [==============================] - 0s 50ms/step - loss: 0.5523 - accuracy: 0.8316 - val_loss: 1.7750 - val_accuracy: 0.3646\n",
      "Epoch 18/40\n",
      "9/9 [==============================] - 0s 49ms/step - loss: 0.4964 - accuracy: 0.8524 - val_loss: 1.7634 - val_accuracy: 0.4062\n",
      "Epoch 19/40\n",
      "9/9 [==============================] - 0s 50ms/step - loss: 0.4757 - accuracy: 0.8646 - val_loss: 1.7551 - val_accuracy: 0.3993\n",
      "Epoch 20/40\n",
      "9/9 [==============================] - 0s 51ms/step - loss: 0.4681 - accuracy: 0.8524 - val_loss: 1.7665 - val_accuracy: 0.3681\n",
      "Epoch 21/40\n",
      "9/9 [==============================] - 0s 48ms/step - loss: 0.4481 - accuracy: 0.8498 - val_loss: 1.7443 - val_accuracy: 0.3403\n",
      "Epoch 22/40\n",
      "9/9 [==============================] - 0s 49ms/step - loss: 0.3950 - accuracy: 0.8845 - val_loss: 1.7303 - val_accuracy: 0.3681\n",
      "Epoch 23/40\n",
      "9/9 [==============================] - 0s 49ms/step - loss: 0.3806 - accuracy: 0.8863 - val_loss: 1.7143 - val_accuracy: 0.3993\n",
      "Epoch 24/40\n",
      "9/9 [==============================] - 0s 49ms/step - loss: 0.3671 - accuracy: 0.8880 - val_loss: 1.6894 - val_accuracy: 0.3958\n",
      "Epoch 25/40\n",
      "9/9 [==============================] - 0s 49ms/step - loss: 0.3310 - accuracy: 0.9158 - val_loss: 1.6263 - val_accuracy: 0.4340\n",
      "Epoch 26/40\n",
      "9/9 [==============================] - 0s 49ms/step - loss: 0.3085 - accuracy: 0.9193 - val_loss: 1.6484 - val_accuracy: 0.4167\n",
      "Epoch 27/40\n",
      "9/9 [==============================] - 0s 49ms/step - loss: 0.2902 - accuracy: 0.9175 - val_loss: 1.6371 - val_accuracy: 0.4028\n",
      "Epoch 28/40\n",
      "9/9 [==============================] - 0s 48ms/step - loss: 0.2754 - accuracy: 0.9262 - val_loss: 1.5964 - val_accuracy: 0.4375\n",
      "Epoch 29/40\n",
      "9/9 [==============================] - 0s 49ms/step - loss: 0.2483 - accuracy: 0.9384 - val_loss: 1.5651 - val_accuracy: 0.4618\n",
      "Epoch 30/40\n",
      "9/9 [==============================] - 0s 49ms/step - loss: 0.2130 - accuracy: 0.9523 - val_loss: 1.5462 - val_accuracy: 0.4271\n",
      "Epoch 31/40\n",
      "9/9 [==============================] - 0s 49ms/step - loss: 0.2234 - accuracy: 0.9479 - val_loss: 1.5634 - val_accuracy: 0.4340\n",
      "Epoch 32/40\n",
      "9/9 [==============================] - 0s 49ms/step - loss: 0.2267 - accuracy: 0.9418 - val_loss: 1.4986 - val_accuracy: 0.4583\n",
      "Epoch 33/40\n",
      "9/9 [==============================] - 0s 49ms/step - loss: 0.2049 - accuracy: 0.9410 - val_loss: 1.5745 - val_accuracy: 0.4132\n",
      "Epoch 34/40\n",
      "9/9 [==============================] - 0s 50ms/step - loss: 0.1843 - accuracy: 0.9627 - val_loss: 1.4379 - val_accuracy: 0.4688\n",
      "Epoch 35/40\n",
      "9/9 [==============================] - 0s 49ms/step - loss: 0.1876 - accuracy: 0.9523 - val_loss: 1.4825 - val_accuracy: 0.4340\n",
      "Epoch 36/40\n",
      "9/9 [==============================] - 0s 49ms/step - loss: 0.1773 - accuracy: 0.9531 - val_loss: 1.4226 - val_accuracy: 0.4583\n",
      "Epoch 37/40\n",
      "9/9 [==============================] - 0s 49ms/step - loss: 0.1884 - accuracy: 0.9479 - val_loss: 1.3896 - val_accuracy: 0.4826\n",
      "Epoch 38/40\n",
      "9/9 [==============================] - 0s 49ms/step - loss: 0.1706 - accuracy: 0.9627 - val_loss: 1.4071 - val_accuracy: 0.4792\n",
      "Epoch 39/40\n",
      "9/9 [==============================] - 0s 49ms/step - loss: 0.1516 - accuracy: 0.9609 - val_loss: 1.3491 - val_accuracy: 0.4896\n",
      "Epoch 40/40\n",
      "9/9 [==============================] - 0s 49ms/step - loss: 0.1370 - accuracy: 0.9679 - val_loss: 1.3604 - val_accuracy: 0.5035\n",
      "              precision    recall  f1-score   support\n",
      "\n",
      "           0       0.77      0.51      0.61        45\n",
      "           1       0.37      0.70      0.48        23\n",
      "           2       0.68      0.34      0.45        56\n",
      "           3       0.61      0.61      0.61        41\n",
      "           4       0.29      0.62      0.40        26\n",
      "           5       0.29      0.40      0.33        15\n",
      "           6       0.38      0.57      0.45        21\n",
      "           7       0.74      0.46      0.57        61\n",
      "\n",
      "    accuracy                           0.50       288\n",
      "   macro avg       0.51      0.53      0.49       288\n",
      "weighted avg       0.59      0.50      0.52       288\n",
      "\n"
     ]
    },
    {
     "name": "stderr",
     "output_type": "stream",
     "text": [
      "C:\\Users\\Aaditya Baranwal\\AppData\\Local\\Programs\\Python\\Python39\\lib\\site-packages\\tensorflow\\python\\data\\ops\\dataset_ops.py:3703: UserWarning: Even though the `tf.config.experimental_run_functions_eagerly` option is set, this option does not apply to tf.data functions. To force eager execution of tf.data functions, please use `tf.data.experimental.enable.debug_mode()`.\n",
      "  warnings.warn(\n"
     ]
    }
   ],
   "source": [
    "One_D_CNN(mfNon_Augmented,mfy_train.reshape(-1,1),mftest,mfy_test.reshape(-1,1))"
   ]
  },
  {
   "cell_type": "code",
   "execution_count": 228,
   "metadata": {},
   "outputs": [
    {
     "name": "stderr",
     "output_type": "stream",
     "text": [
      "C:\\Users\\Aaditya Baranwal\\AppData\\Local\\Programs\\Python\\Python39\\lib\\site-packages\\cupy\\_environment.py:213: UserWarning: CUDA path could not be detected. Set CUDA_PATH environment variable if CuPy fails to load.\n",
      "  warnings.warn(\n",
      "C:\\Users\\Aaditya Baranwal\\AppData\\Local\\Programs\\Python\\Python39\\lib\\site-packages\\xgboost\\sklearn.py:1224: UserWarning: The use of label encoder in XGBClassifier is deprecated and will be removed in a future release. To remove this warning, do the following: 1) Pass option use_label_encoder=False when constructing XGBClassifier object; and 2) Encode your labels (y) as integers starting with 0, i.e. 0, 1, 2, ..., [num_class - 1].\n",
      "  warnings.warn(label_encoder_deprecation_msg, UserWarning)\n"
     ]
    },
    {
     "name": "stdout",
     "output_type": "stream",
     "text": [
      "[11:35:31] WARNING: C:/Users/Administrator/workspace/xgboost-win64_release_1.5.1/src/learner.cc:1115: Starting in XGBoost 1.3.0, the default evaluation metric used with the objective 'multi:softprob' was changed from 'merror' to 'mlogloss'. Explicitly set eval_metric if you'd like to restore the old behavior.\n",
      "              precision    recall  f1-score   support\n",
      "\n",
      "           0       0.80      0.67      0.73        36\n",
      "           1       0.79      0.65      0.72        52\n",
      "           2       0.46      0.45      0.46        29\n",
      "           3       0.61      0.60      0.60        42\n",
      "           4       0.49      0.73      0.59        37\n",
      "           5       0.43      0.56      0.49        16\n",
      "           6       0.56      0.41      0.47        44\n",
      "           7       0.55      0.66      0.60        32\n",
      "\n",
      "    accuracy                           0.59       288\n",
      "   macro avg       0.59      0.59      0.58       288\n",
      "weighted avg       0.61      0.59      0.60       288\n",
      "\n"
     ]
    }
   ],
   "source": [
    "XGBC(mfNon_Augmented,mfy_train,mftest,mfy_test)"
   ]
  },
  {
   "cell_type": "code",
   "execution_count": 48,
   "metadata": {},
   "outputs": [
    {
     "name": "stdout",
     "output_type": "stream",
     "text": [
      "Epoch 1/50\n",
      " 2/36 [>.............................] - ETA: 2s - loss: 0.0000e+00 - accuracy: 0.1406"
     ]
    },
    {
     "name": "stderr",
     "output_type": "stream",
     "text": [
      "C:\\Users\\Aaditya Baranwal\\AppData\\Local\\Programs\\Python\\Python39\\lib\\site-packages\\tensorflow\\python\\data\\ops\\dataset_ops.py:3703: UserWarning: Even though the `tf.config.experimental_run_functions_eagerly` option is set, this option does not apply to tf.data functions. To force eager execution of tf.data functions, please use `tf.data.experimental.enable.debug_mode()`.\n",
      "  warnings.warn(\n"
     ]
    },
    {
     "name": "stdout",
     "output_type": "stream",
     "text": [
      "36/36 [==============================] - 3s 74ms/step - loss: 0.0000e+00 - accuracy: 0.1276\n",
      "Epoch 2/50\n",
      "36/36 [==============================] - 3s 74ms/step - loss: 0.0000e+00 - accuracy: 0.1276\n",
      "Epoch 3/50\n",
      "36/36 [==============================] - 3s 74ms/step - loss: 0.0000e+00 - accuracy: 0.1276\n",
      "Epoch 4/50\n",
      "36/36 [==============================] - 3s 75ms/step - loss: 0.0000e+00 - accuracy: 0.1276\n",
      "Epoch 5/50\n",
      "36/36 [==============================] - 3s 76ms/step - loss: 0.0000e+00 - accuracy: 0.1276\n",
      "Epoch 6/50\n",
      "24/36 [===================>..........] - ETA: 0s - loss: 0.0000e+00 - accuracy: 0.1302ERROR:tensorflow:==================================\n",
      "Object was never used (type <class 'tensorflow.python.ops.tensor_array_ops.TensorArray'>):\n",
      "<tensorflow.python.ops.tensor_array_ops.TensorArray object at 0x00000204B5F2C340>\n",
      "If you want to mark it as used call its \"mark_used()\" method.\n",
      "It was originally created here:\n",
      "  File \"C:\\Users\\Aaditya Baranwal\\AppData\\Local\\Programs\\Python\\Python39\\lib\\site-packages\\tensorflow\\python\\keras\\backend.py\", line 4518, in <genexpr>\n",
      "    ta.write(time, out) for ta, out in zip(output_ta_t, flat_output))  File \"C:\\Users\\Aaditya Baranwal\\AppData\\Local\\Programs\\Python\\Python39\\lib\\site-packages\\tensorflow\\python\\util\\tf_should_use.py\", line 247, in wrapped\n",
      "    return _add_should_use_warning(fn(*args, **kwargs),\n",
      "==================================\n",
      "36/36 [==============================] - 3s 82ms/step - loss: 0.0000e+00 - accuracy: 0.1276\n",
      "Epoch 7/50\n",
      "36/36 [==============================] - 3s 85ms/step - loss: 0.0000e+00 - accuracy: 0.1276\n",
      "Epoch 8/50\n",
      "36/36 [==============================] - 3s 85ms/step - loss: 0.0000e+00 - accuracy: 0.1276\n",
      "Epoch 9/50\n",
      "36/36 [==============================] - 3s 84ms/step - loss: 0.0000e+00 - accuracy: 0.1276\n",
      "Epoch 10/50\n",
      "36/36 [==============================] - 3s 81ms/step - loss: 0.0000e+00 - accuracy: 0.1276\n",
      "Epoch 11/50\n",
      "36/36 [==============================] - 3s 82ms/step - loss: 0.0000e+00 - accuracy: 0.1276\n",
      "Epoch 12/50\n",
      "36/36 [==============================] - 3s 82ms/step - loss: 0.0000e+00 - accuracy: 0.1276\n",
      "Epoch 13/50\n",
      "36/36 [==============================] - 3s 82ms/step - loss: 0.0000e+00 - accuracy: 0.1276\n",
      "Epoch 14/50\n",
      "36/36 [==============================] - 3s 84ms/step - loss: 0.0000e+00 - accuracy: 0.1276\n",
      "Epoch 15/50\n",
      "36/36 [==============================] - 3s 85ms/step - loss: 0.0000e+00 - accuracy: 0.1276\n",
      "Epoch 16/50\n",
      "36/36 [==============================] - 3s 81ms/step - loss: 0.0000e+00 - accuracy: 0.1276\n",
      "Epoch 17/50\n",
      "36/36 [==============================] - 3s 80ms/step - loss: 0.0000e+00 - accuracy: 0.1276\n",
      "Epoch 18/50\n",
      "36/36 [==============================] - 3s 79ms/step - loss: 0.0000e+00 - accuracy: 0.1276\n",
      "Epoch 19/50\n",
      "36/36 [==============================] - 3s 80ms/step - loss: 0.0000e+00 - accuracy: 0.1276\n",
      "Epoch 20/50\n",
      "36/36 [==============================] - 3s 83ms/step - loss: 0.0000e+00 - accuracy: 0.1276\n",
      "Epoch 21/50\n",
      "36/36 [==============================] - 3s 79ms/step - loss: 0.0000e+00 - accuracy: 0.1276\n",
      "Epoch 22/50\n",
      "36/36 [==============================] - 3s 82ms/step - loss: 0.0000e+00 - accuracy: 0.1276\n",
      "Epoch 23/50\n",
      "36/36 [==============================] - 3s 83ms/step - loss: 0.0000e+00 - accuracy: 0.1276\n",
      "Epoch 24/50\n",
      "36/36 [==============================] - 3s 79ms/step - loss: 0.0000e+00 - accuracy: 0.1276\n",
      "Epoch 25/50\n",
      "36/36 [==============================] - 3s 79ms/step - loss: 0.0000e+00 - accuracy: 0.1276\n",
      "Epoch 26/50\n",
      "36/36 [==============================] - 3s 79ms/step - loss: 0.0000e+00 - accuracy: 0.1276\n",
      "Epoch 27/50\n",
      "36/36 [==============================] - 3s 79ms/step - loss: 0.0000e+00 - accuracy: 0.1276\n",
      "Epoch 28/50\n",
      "36/36 [==============================] - 3s 79ms/step - loss: 0.0000e+00 - accuracy: 0.1276\n",
      "Epoch 29/50\n",
      "36/36 [==============================] - 3s 83ms/step - loss: 0.0000e+00 - accuracy: 0.1276\n",
      "Epoch 30/50\n",
      "36/36 [==============================] - 3s 83ms/step - loss: 0.0000e+00 - accuracy: 0.1276\n",
      "Epoch 31/50\n",
      "36/36 [==============================] - 3s 82ms/step - loss: 0.0000e+00 - accuracy: 0.1276\n",
      "Epoch 32/50\n",
      "36/36 [==============================] - 3s 82ms/step - loss: 0.0000e+00 - accuracy: 0.1276\n",
      "Epoch 33/50\n",
      "36/36 [==============================] - 3s 82ms/step - loss: 0.0000e+00 - accuracy: 0.1276\n",
      "Epoch 34/50\n",
      "36/36 [==============================] - 3s 81ms/step - loss: 0.0000e+00 - accuracy: 0.1276\n",
      "Epoch 35/50\n",
      "36/36 [==============================] - 3s 81ms/step - loss: 0.0000e+00 - accuracy: 0.1276\n",
      "Epoch 36/50\n",
      "36/36 [==============================] - 3s 81ms/step - loss: 0.0000e+00 - accuracy: 0.1276\n",
      "Epoch 37/50\n",
      "36/36 [==============================] - 3s 82ms/step - loss: 0.0000e+00 - accuracy: 0.1276\n",
      "Epoch 38/50\n",
      "36/36 [==============================] - 3s 85ms/step - loss: 0.0000e+00 - accuracy: 0.1276\n",
      "Epoch 39/50\n",
      "36/36 [==============================] - 3s 81ms/step - loss: 0.0000e+00 - accuracy: 0.1276\n",
      "Epoch 40/50\n",
      "36/36 [==============================] - 3s 80ms/step - loss: 0.0000e+00 - accuracy: 0.1276\n",
      "Epoch 41/50\n",
      "36/36 [==============================] - 3s 81ms/step - loss: 0.0000e+00 - accuracy: 0.1276\n",
      "Epoch 42/50\n",
      "36/36 [==============================] - 3s 80ms/step - loss: 0.0000e+00 - accuracy: 0.1276\n",
      "Epoch 43/50\n",
      "36/36 [==============================] - 3s 82ms/step - loss: 0.0000e+00 - accuracy: 0.1276\n",
      "Epoch 44/50\n",
      "36/36 [==============================] - 3s 81ms/step - loss: 0.0000e+00 - accuracy: 0.1276\n",
      "Epoch 45/50\n",
      "36/36 [==============================] - 3s 82ms/step - loss: 0.0000e+00 - accuracy: 0.1276\n",
      "Epoch 46/50\n",
      "36/36 [==============================] - 3s 82ms/step - loss: 0.0000e+00 - accuracy: 0.1276\n",
      "Epoch 47/50\n",
      "36/36 [==============================] - 3s 81ms/step - loss: 0.0000e+00 - accuracy: 0.1276\n",
      "Epoch 48/50\n",
      "36/36 [==============================] - 3s 81ms/step - loss: 0.0000e+00 - accuracy: 0.1276\n",
      "Epoch 49/50\n",
      "36/36 [==============================] - 3s 82ms/step - loss: 0.0000e+00 - accuracy: 0.1276\n",
      "Epoch 50/50\n",
      "36/36 [==============================] - 3s 82ms/step - loss: 0.0000e+00 - accuracy: 0.1276\n",
      "              precision    recall  f1-score   support\n",
      "\n",
      "         0.0       0.00      0.00      0.00         0\n",
      "         1.0       1.00      0.16      0.27       288\n",
      "         2.0       0.00      0.00      0.00         0\n",
      "         3.0       0.00      0.00      0.00         0\n",
      "         4.0       0.00      0.00      0.00         0\n",
      "         5.0       0.00      0.00      0.00         0\n",
      "         6.0       0.00      0.00      0.00         0\n",
      "         7.0       0.00      0.00      0.00         0\n",
      "\n",
      "    accuracy                           0.16       288\n",
      "   macro avg       0.12      0.02      0.03       288\n",
      "weighted avg       1.00      0.16      0.27       288\n",
      "\n"
     ]
    },
    {
     "name": "stderr",
     "output_type": "stream",
     "text": [
      "C:\\Users\\Aaditya Baranwal\\AppData\\Local\\Programs\\Python\\Python39\\lib\\site-packages\\sklearn\\metrics\\_classification.py:1318: UndefinedMetricWarning: Recall and F-score are ill-defined and being set to 0.0 in labels with no true samples. Use `zero_division` parameter to control this behavior.\n",
      "  _warn_prf(average, modifier, msg_start, len(result))\n",
      "C:\\Users\\Aaditya Baranwal\\AppData\\Local\\Programs\\Python\\Python39\\lib\\site-packages\\sklearn\\metrics\\_classification.py:1318: UndefinedMetricWarning: Recall and F-score are ill-defined and being set to 0.0 in labels with no true samples. Use `zero_division` parameter to control this behavior.\n",
      "  _warn_prf(average, modifier, msg_start, len(result))\n",
      "C:\\Users\\Aaditya Baranwal\\AppData\\Local\\Programs\\Python\\Python39\\lib\\site-packages\\sklearn\\metrics\\_classification.py:1318: UndefinedMetricWarning: Recall and F-score are ill-defined and being set to 0.0 in labels with no true samples. Use `zero_division` parameter to control this behavior.\n",
      "  _warn_prf(average, modifier, msg_start, len(result))\n"
     ]
    }
   ],
   "source": [
    "\n",
    "LSTM_model(mfNon_Augmented,mfy_train,mftest,mfy_test)"
   ]
  },
  {
   "cell_type": "markdown",
   "metadata": {},
   "source": [
    "## MEL Coefficients"
   ]
  },
  {
   "cell_type": "markdown",
   "metadata": {},
   "source": [
    "### Original Data"
   ]
  },
  {
   "cell_type": "code",
   "execution_count": 184,
   "metadata": {},
   "outputs": [],
   "source": [
    "Feat_ml = Feature(spread=False,zcr=False,mean=False,chroma=False,mfcc=False)\n",
    "mlx_train,mlx_test,mly_train,mly_test = train_test_split(X,Y_,train_size=0.8)\n",
    "mlNon_Augmented = Feat_ml.engineer(mlx_train)\n",
    "mltest = Feat_ml.engineer(mlx_test)"
   ]
  },
  {
   "cell_type": "code",
   "execution_count": 229,
   "metadata": {},
   "outputs": [
    {
     "name": "stdout",
     "output_type": "stream",
     "text": [
      "              precision    recall  f1-score   support\n",
      "\n",
      "           0       0.45      0.69      0.55        26\n",
      "           1       0.66      0.32      0.43        85\n",
      "           2       0.45      0.39      0.41        44\n",
      "           3       0.30      0.46      0.36        26\n",
      "           4       0.14      0.31      0.19        16\n",
      "           5       0.00      0.00      0.00         0\n",
      "           6       0.11      0.10      0.11        39\n",
      "           7       0.39      0.27      0.32        52\n",
      "\n",
      "    accuracy                           0.34       288\n",
      "   macro avg       0.31      0.32      0.30       288\n",
      "weighted avg       0.42      0.34      0.35       288\n",
      "\n"
     ]
    },
    {
     "name": "stderr",
     "output_type": "stream",
     "text": [
      "C:\\Users\\Aaditya Baranwal\\AppData\\Local\\Programs\\Python\\Python39\\lib\\site-packages\\sklearn\\metrics\\_classification.py:1318: UndefinedMetricWarning: Recall and F-score are ill-defined and being set to 0.0 in labels with no true samples. Use `zero_division` parameter to control this behavior.\n",
      "  _warn_prf(average, modifier, msg_start, len(result))\n",
      "C:\\Users\\Aaditya Baranwal\\AppData\\Local\\Programs\\Python\\Python39\\lib\\site-packages\\sklearn\\metrics\\_classification.py:1318: UndefinedMetricWarning: Recall and F-score are ill-defined and being set to 0.0 in labels with no true samples. Use `zero_division` parameter to control this behavior.\n",
      "  _warn_prf(average, modifier, msg_start, len(result))\n",
      "C:\\Users\\Aaditya Baranwal\\AppData\\Local\\Programs\\Python\\Python39\\lib\\site-packages\\sklearn\\metrics\\_classification.py:1318: UndefinedMetricWarning: Recall and F-score are ill-defined and being set to 0.0 in labels with no true samples. Use `zero_division` parameter to control this behavior.\n",
      "  _warn_prf(average, modifier, msg_start, len(result))\n"
     ]
    }
   ],
   "source": [
    "ShallowMLP(mlNon_Augmented,mly_train,mltest,mly_test)"
   ]
  },
  {
   "cell_type": "code",
   "execution_count": 230,
   "metadata": {},
   "outputs": [
    {
     "name": "stdout",
     "output_type": "stream",
     "text": [
      "              precision    recall  f1-score   support\n",
      "\n",
      "           0       0.55      0.65      0.59        34\n",
      "           1       0.78      0.33      0.46        98\n",
      "           2       0.34      0.39      0.37        33\n",
      "           3       0.23      0.69      0.34        13\n",
      "           4       0.14      0.31      0.19        16\n",
      "           5       0.00      0.00      0.00         0\n",
      "           6       0.31      0.17      0.22        63\n",
      "           7       0.28      0.32      0.30        31\n",
      "\n",
      "    accuracy                           0.35       288\n",
      "   macro avg       0.33      0.36      0.31       288\n",
      "weighted avg       0.49      0.35      0.38       288\n",
      "\n"
     ]
    },
    {
     "name": "stderr",
     "output_type": "stream",
     "text": [
      "C:\\Users\\Aaditya Baranwal\\AppData\\Local\\Programs\\Python\\Python39\\lib\\site-packages\\sklearn\\metrics\\_classification.py:1318: UndefinedMetricWarning: Recall and F-score are ill-defined and being set to 0.0 in labels with no true samples. Use `zero_division` parameter to control this behavior.\n",
      "  _warn_prf(average, modifier, msg_start, len(result))\n",
      "C:\\Users\\Aaditya Baranwal\\AppData\\Local\\Programs\\Python\\Python39\\lib\\site-packages\\sklearn\\metrics\\_classification.py:1318: UndefinedMetricWarning: Recall and F-score are ill-defined and being set to 0.0 in labels with no true samples. Use `zero_division` parameter to control this behavior.\n",
      "  _warn_prf(average, modifier, msg_start, len(result))\n",
      "C:\\Users\\Aaditya Baranwal\\AppData\\Local\\Programs\\Python\\Python39\\lib\\site-packages\\sklearn\\metrics\\_classification.py:1318: UndefinedMetricWarning: Recall and F-score are ill-defined and being set to 0.0 in labels with no true samples. Use `zero_division` parameter to control this behavior.\n",
      "  _warn_prf(average, modifier, msg_start, len(result))\n"
     ]
    }
   ],
   "source": [
    "SVM_Model(mlNon_Augmented,mly_train,mltest,mly_test)"
   ]
  },
  {
   "cell_type": "code",
   "execution_count": 231,
   "metadata": {},
   "outputs": [
    {
     "name": "stdout",
     "output_type": "stream",
     "text": [
      "              precision    recall  f1-score   support\n",
      "\n",
      "           0       0.33      0.57      0.41        23\n",
      "           1       0.80      0.36      0.50        91\n",
      "           2       0.39      0.47      0.43        32\n",
      "           3       0.30      0.50      0.37        24\n",
      "           4       0.22      0.27      0.24        30\n",
      "           5       0.00      0.00      0.00         0\n",
      "           6       0.23      0.16      0.19        50\n",
      "           7       0.28      0.26      0.27        38\n",
      "\n",
      "    accuracy                           0.34       288\n",
      "   macro avg       0.32      0.32      0.30       288\n",
      "weighted avg       0.45      0.34      0.36       288\n",
      "\n"
     ]
    },
    {
     "name": "stderr",
     "output_type": "stream",
     "text": [
      "C:\\Users\\Aaditya Baranwal\\AppData\\Local\\Programs\\Python\\Python39\\lib\\site-packages\\sklearn\\metrics\\_classification.py:1318: UndefinedMetricWarning: Recall and F-score are ill-defined and being set to 0.0 in labels with no true samples. Use `zero_division` parameter to control this behavior.\n",
      "  _warn_prf(average, modifier, msg_start, len(result))\n",
      "C:\\Users\\Aaditya Baranwal\\AppData\\Local\\Programs\\Python\\Python39\\lib\\site-packages\\sklearn\\metrics\\_classification.py:1318: UndefinedMetricWarning: Recall and F-score are ill-defined and being set to 0.0 in labels with no true samples. Use `zero_division` parameter to control this behavior.\n",
      "  _warn_prf(average, modifier, msg_start, len(result))\n",
      "C:\\Users\\Aaditya Baranwal\\AppData\\Local\\Programs\\Python\\Python39\\lib\\site-packages\\sklearn\\metrics\\_classification.py:1318: UndefinedMetricWarning: Recall and F-score are ill-defined and being set to 0.0 in labels with no true samples. Use `zero_division` parameter to control this behavior.\n",
      "  _warn_prf(average, modifier, msg_start, len(result))\n"
     ]
    }
   ],
   "source": [
    "Log_Regressor(mlNon_Augmented,mly_train,mltest,mly_test)"
   ]
  },
  {
   "cell_type": "code",
   "execution_count": 232,
   "metadata": {},
   "outputs": [
    {
     "name": "stdout",
     "output_type": "stream",
     "text": [
      "              precision    recall  f1-score   support\n",
      "\n",
      "           0       0.50      0.47      0.48        43\n",
      "           1       0.85      0.31      0.45       113\n",
      "           2       0.05      0.33      0.09         6\n",
      "           3       0.50      0.21      0.30        94\n",
      "           4       0.03      0.14      0.05         7\n",
      "           5       0.05      0.11      0.06         9\n",
      "           6       0.06      0.17      0.09        12\n",
      "           7       0.03      0.25      0.05         4\n",
      "\n",
      "    accuracy                           0.28       288\n",
      "   macro avg       0.26      0.25      0.20       288\n",
      "weighted avg       0.58      0.28      0.36       288\n",
      "\n"
     ]
    }
   ],
   "source": [
    "PAClassifier(mlNon_Augmented,mly_train,mltest,mly_test)"
   ]
  },
  {
   "cell_type": "code",
   "execution_count": 233,
   "metadata": {},
   "outputs": [
    {
     "name": "stdout",
     "output_type": "stream",
     "text": [
      "              precision    recall  f1-score   support\n",
      "\n",
      "           0       0.42      0.50      0.46        34\n",
      "           1       0.44      0.64      0.52        28\n",
      "           2       0.50      0.49      0.49        39\n",
      "           3       0.33      0.43      0.37        30\n",
      "           4       0.42      0.38      0.40        39\n",
      "           5       0.59      0.50      0.54        26\n",
      "           6       0.43      0.33      0.37        46\n",
      "           7       0.50      0.39      0.44        46\n",
      "\n",
      "    accuracy                           0.44       288\n",
      "   macro avg       0.45      0.46      0.45       288\n",
      "weighted avg       0.45      0.44      0.44       288\n",
      "\n"
     ]
    }
   ],
   "source": [
    "KNN(mlNon_Augmented,mly_train,mltest,mly_test)"
   ]
  },
  {
   "cell_type": "code",
   "execution_count": null,
   "metadata": {},
   "outputs": [],
   "source": [
    "\n",
    "One_D_CNN(mlNon_Augmented,mly_train,mltest,mly_test)"
   ]
  },
  {
   "cell_type": "code",
   "execution_count": 190,
   "metadata": {},
   "outputs": [
    {
     "name": "stderr",
     "output_type": "stream",
     "text": [
      "C:\\Users\\Aaditya Baranwal\\AppData\\Local\\Programs\\Python\\Python39\\lib\\site-packages\\cupy\\_environment.py:213: UserWarning: CUDA path could not be detected. Set CUDA_PATH environment variable if CuPy fails to load.\n",
      "  warnings.warn(\n",
      "C:\\Users\\Aaditya Baranwal\\AppData\\Local\\Programs\\Python\\Python39\\lib\\site-packages\\xgboost\\sklearn.py:1224: UserWarning: The use of label encoder in XGBClassifier is deprecated and will be removed in a future release. To remove this warning, do the following: 1) Pass option use_label_encoder=False when constructing XGBClassifier object; and 2) Encode your labels (y) as integers starting with 0, i.e. 0, 1, 2, ..., [num_class - 1].\n",
      "  warnings.warn(label_encoder_deprecation_msg, UserWarning)\n"
     ]
    },
    {
     "name": "stdout",
     "output_type": "stream",
     "text": [
      "[11:12:06] WARNING: C:/Users/Administrator/workspace/xgboost-win64_release_1.5.1/src/learner.cc:1115: Starting in XGBoost 1.3.0, the default evaluation metric used with the objective 'multi:softprob' was changed from 'merror' to 'mlogloss'. Explicitly set eval_metric if you'd like to restore the old behavior.\n",
      "              precision    recall  f1-score   support\n",
      "\n",
      "           0       0.70      0.70      0.70        40\n",
      "           1       0.66      0.61      0.64        44\n",
      "           2       0.58      0.45      0.51        49\n",
      "           3       0.42      0.59      0.49        29\n",
      "           4       0.39      0.35      0.37        40\n",
      "           5       0.32      0.44      0.37        16\n",
      "           6       0.43      0.45      0.44        33\n",
      "           7       0.47      0.46      0.47        37\n",
      "\n",
      "    accuracy                           0.51       288\n",
      "   macro avg       0.50      0.51      0.50       288\n",
      "weighted avg       0.52      0.51      0.51       288\n",
      "\n"
     ]
    }
   ],
   "source": [
    "XGBC(mlNon_Augmented,mly_train,mltest,mly_test)"
   ]
  },
  {
   "cell_type": "code",
   "execution_count": null,
   "metadata": {},
   "outputs": [],
   "source": [
    "LSTM_model(mlNon_Augmented,mly_train,mltest,mly_test)"
   ]
  },
  {
   "cell_type": "markdown",
   "metadata": {},
   "source": [
    "## Chroma Vectors"
   ]
  },
  {
   "cell_type": "markdown",
   "metadata": {},
   "source": [
    "### Original Data"
   ]
  },
  {
   "cell_type": "code",
   "execution_count": 191,
   "metadata": {},
   "outputs": [],
   "source": [
    "Feat_cv = Feature(spread=False,zcr=False,mean=False,mel=False,mfcc=False)\n",
    "cvx_train,cvx_test,cvy_train,cvy_test = train_test_split(X,Y_,train_size=0.8)\n",
    "cvNon_Augmented = Feat_cv.engineer(cvx_train)\n",
    "cvtest = Feat_cv.engineer(cvx_test)"
   ]
  },
  {
   "cell_type": "code",
   "execution_count": 192,
   "metadata": {},
   "outputs": [
    {
     "name": "stdout",
     "output_type": "stream",
     "text": [
      "              precision    recall  f1-score   support\n",
      "\n",
      "           0       0.20      0.16      0.18        44\n",
      "           1       0.23      0.26      0.25        34\n",
      "           2       0.15      0.19      0.16        32\n",
      "           3       0.33      0.30      0.32        40\n",
      "           4       0.16      0.16      0.16        38\n",
      "           5       0.04      0.11      0.06         9\n",
      "           6       0.10      0.12      0.11        34\n",
      "           7       0.40      0.25      0.30        57\n",
      "\n",
      "    accuracy                           0.20       288\n",
      "   macro avg       0.20      0.19      0.19       288\n",
      "weighted avg       0.23      0.20      0.21       288\n",
      "\n"
     ]
    }
   ],
   "source": [
    "ShallowMLP(cvNon_Augmented,cvy_train,cvtest,cvy_test)"
   ]
  },
  {
   "cell_type": "code",
   "execution_count": 193,
   "metadata": {},
   "outputs": [
    {
     "name": "stdout",
     "output_type": "stream",
     "text": [
      "              precision    recall  f1-score   support\n",
      "\n",
      "           0       0.23      0.16      0.19        49\n",
      "           1       0.18      0.24      0.21        29\n",
      "           2       0.15      0.26      0.19        23\n",
      "           3       0.25      0.31      0.28        29\n",
      "           4       0.16      0.13      0.15        45\n",
      "           5       0.00      0.00      0.00         0\n",
      "           6       0.07      0.17      0.10        18\n",
      "           7       0.66      0.24      0.35        95\n",
      "\n",
      "    accuracy                           0.22       288\n",
      "   macro avg       0.21      0.19      0.18       288\n",
      "weighted avg       0.34      0.22      0.24       288\n",
      "\n"
     ]
    },
    {
     "name": "stderr",
     "output_type": "stream",
     "text": [
      "C:\\Users\\Aaditya Baranwal\\AppData\\Local\\Programs\\Python\\Python39\\lib\\site-packages\\sklearn\\metrics\\_classification.py:1318: UndefinedMetricWarning: Recall and F-score are ill-defined and being set to 0.0 in labels with no true samples. Use `zero_division` parameter to control this behavior.\n",
      "  _warn_prf(average, modifier, msg_start, len(result))\n",
      "C:\\Users\\Aaditya Baranwal\\AppData\\Local\\Programs\\Python\\Python39\\lib\\site-packages\\sklearn\\metrics\\_classification.py:1318: UndefinedMetricWarning: Recall and F-score are ill-defined and being set to 0.0 in labels with no true samples. Use `zero_division` parameter to control this behavior.\n",
      "  _warn_prf(average, modifier, msg_start, len(result))\n",
      "C:\\Users\\Aaditya Baranwal\\AppData\\Local\\Programs\\Python\\Python39\\lib\\site-packages\\sklearn\\metrics\\_classification.py:1318: UndefinedMetricWarning: Recall and F-score are ill-defined and being set to 0.0 in labels with no true samples. Use `zero_division` parameter to control this behavior.\n",
      "  _warn_prf(average, modifier, msg_start, len(result))\n"
     ]
    }
   ],
   "source": [
    "SVM_Model(cvNon_Augmented,cvy_train,cvtest,cvy_test)"
   ]
  },
  {
   "cell_type": "code",
   "execution_count": 194,
   "metadata": {},
   "outputs": [
    {
     "name": "stdout",
     "output_type": "stream",
     "text": [
      "              precision    recall  f1-score   support\n",
      "\n",
      "           0       0.23      0.17      0.20        46\n",
      "           1       0.38      0.31      0.34        48\n",
      "           2       0.15      0.27      0.19        22\n",
      "           3       0.14      0.16      0.15        32\n",
      "           4       0.16      0.25      0.20        24\n",
      "           5       0.04      0.17      0.06         6\n",
      "           6       0.12      0.11      0.11        47\n",
      "           7       0.34      0.19      0.24        63\n",
      "\n",
      "    accuracy                           0.20       288\n",
      "   macro avg       0.20      0.20      0.19       288\n",
      "weighted avg       0.24      0.20      0.21       288\n",
      "\n"
     ]
    }
   ],
   "source": [
    "Log_Regressor(cvNon_Augmented,cvy_train,cvtest,cvy_test)"
   ]
  },
  {
   "cell_type": "code",
   "execution_count": 195,
   "metadata": {},
   "outputs": [
    {
     "name": "stdout",
     "output_type": "stream",
     "text": [
      "              precision    recall  f1-score   support\n",
      "\n",
      "           0       0.26      0.20      0.23        45\n",
      "           1       0.13      0.21      0.16        24\n",
      "           2       0.10      0.22      0.14        18\n",
      "           3       0.22      0.17      0.20        46\n",
      "           4       0.05      0.40      0.10         5\n",
      "           5       0.28      0.11      0.16        63\n",
      "           6       0.12      0.10      0.11        48\n",
      "           7       0.11      0.10      0.11        39\n",
      "\n",
      "    accuracy                           0.15       288\n",
      "   macro avg       0.16      0.19      0.15       288\n",
      "weighted avg       0.19      0.15      0.16       288\n",
      "\n"
     ]
    }
   ],
   "source": [
    "PAClassifier(cvNon_Augmented,cvy_train,cvtest,cvy_test)"
   ]
  },
  {
   "cell_type": "code",
   "execution_count": 196,
   "metadata": {},
   "outputs": [
    {
     "name": "stdout",
     "output_type": "stream",
     "text": [
      "              precision    recall  f1-score   support\n",
      "\n",
      "           0       0.09      0.09      0.09        34\n",
      "           1       0.36      0.33      0.34        43\n",
      "           2       0.22      0.21      0.21        43\n",
      "           3       0.36      0.42      0.39        31\n",
      "           4       0.05      0.07      0.06        27\n",
      "           5       0.16      0.20      0.18        20\n",
      "           6       0.30      0.29      0.29        42\n",
      "           7       0.26      0.19      0.22        48\n",
      "\n",
      "    accuracy                           0.23       288\n",
      "   macro avg       0.22      0.22      0.22       288\n",
      "weighted avg       0.24      0.23      0.23       288\n",
      "\n"
     ]
    }
   ],
   "source": [
    "KNN(cvNon_Augmented,cvy_train,cvtest,cvy_test)"
   ]
  },
  {
   "cell_type": "code",
   "execution_count": null,
   "metadata": {},
   "outputs": [],
   "source": [
    "One_D_CNN(cvNon_Augmented,cvy_train,cvtest,cvy_test)"
   ]
  },
  {
   "cell_type": "code",
   "execution_count": 197,
   "metadata": {},
   "outputs": [
    {
     "name": "stderr",
     "output_type": "stream",
     "text": [
      "C:\\Users\\Aaditya Baranwal\\AppData\\Local\\Programs\\Python\\Python39\\lib\\site-packages\\cupy\\_environment.py:213: UserWarning: CUDA path could not be detected. Set CUDA_PATH environment variable if CuPy fails to load.\n",
      "  warnings.warn(\n",
      "C:\\Users\\Aaditya Baranwal\\AppData\\Local\\Programs\\Python\\Python39\\lib\\site-packages\\xgboost\\sklearn.py:1224: UserWarning: The use of label encoder in XGBClassifier is deprecated and will be removed in a future release. To remove this warning, do the following: 1) Pass option use_label_encoder=False when constructing XGBClassifier object; and 2) Encode your labels (y) as integers starting with 0, i.e. 0, 1, 2, ..., [num_class - 1].\n",
      "  warnings.warn(label_encoder_deprecation_msg, UserWarning)\n"
     ]
    },
    {
     "name": "stdout",
     "output_type": "stream",
     "text": [
      "[11:13:36] WARNING: C:/Users/Administrator/workspace/xgboost-win64_release_1.5.1/src/learner.cc:1115: Starting in XGBoost 1.3.0, the default evaluation metric used with the objective 'multi:softprob' was changed from 'merror' to 'mlogloss'. Explicitly set eval_metric if you'd like to restore the old behavior.\n",
      "              precision    recall  f1-score   support\n",
      "\n",
      "           0       0.14      0.18      0.16        28\n",
      "           1       0.31      0.32      0.31        38\n",
      "           2       0.29      0.28      0.29        43\n",
      "           3       0.33      0.36      0.35        33\n",
      "           4       0.19      0.16      0.17        44\n",
      "           5       0.04      0.09      0.06        11\n",
      "           6       0.30      0.29      0.29        42\n",
      "           7       0.37      0.27      0.31        49\n",
      "\n",
      "    accuracy                           0.26       288\n",
      "   macro avg       0.25      0.24      0.24       288\n",
      "weighted avg       0.27      0.26      0.26       288\n",
      "\n"
     ]
    }
   ],
   "source": [
    "XGBC(cvNon_Augmented,cvy_train,cvtest,cvy_test)"
   ]
  },
  {
   "cell_type": "code",
   "execution_count": null,
   "metadata": {},
   "outputs": [],
   "source": [
    "LSTM_model(cvNon_Augmented,cvy_train,cvtest,cvy_test)"
   ]
  },
  {
   "cell_type": "markdown",
   "metadata": {},
   "source": [
    "# Training on Comined Data"
   ]
  },
  {
   "cell_type": "markdown",
   "metadata": {},
   "source": [
    "## Original"
   ]
  },
  {
   "cell_type": "code",
   "execution_count": 239,
   "metadata": {},
   "outputs": [
    {
     "name": "stdout",
     "output_type": "stream",
     "text": [
      "              precision    recall  f1-score   support\n",
      "\n",
      "           0       0.66      0.57      0.61        37\n",
      "           1       0.74      0.64      0.68        44\n",
      "           2       0.71      0.67      0.69        48\n",
      "           3       0.56      0.56      0.56        36\n",
      "           4       0.32      0.48      0.39        25\n",
      "           5       0.43      0.43      0.43        21\n",
      "           6       0.55      0.55      0.55        42\n",
      "           7       0.59      0.63      0.61        35\n",
      "\n",
      "    accuracy                           0.58       288\n",
      "   macro avg       0.57      0.56      0.56       288\n",
      "weighted avg       0.60      0.58      0.59       288\n",
      "\n"
     ]
    }
   ],
   "source": [
    "ShallowMLP(Non_Augmented,y_train,alltest,y_test)"
   ]
  },
  {
   "cell_type": "code",
   "execution_count": 240,
   "metadata": {},
   "outputs": [
    {
     "name": "stdout",
     "output_type": "stream",
     "text": [
      "              precision    recall  f1-score   support\n",
      "\n",
      "           0       0.81      0.59      0.68        44\n",
      "           1       0.79      0.68      0.73        44\n",
      "           2       0.73      0.73      0.73        45\n",
      "           3       0.67      0.67      0.67        36\n",
      "           4       0.43      0.62      0.51        26\n",
      "           5       0.48      0.53      0.50        19\n",
      "           6       0.64      0.59      0.61        46\n",
      "           7       0.51      0.68      0.58        28\n",
      "\n",
      "    accuracy                           0.64       288\n",
      "   macro avg       0.63      0.63      0.63       288\n",
      "weighted avg       0.67      0.64      0.65       288\n",
      "\n"
     ]
    }
   ],
   "source": [
    "SVM_Model(Non_Augmented,y_train,alltest,y_test)"
   ]
  },
  {
   "cell_type": "code",
   "execution_count": 241,
   "metadata": {},
   "outputs": [
    {
     "name": "stdout",
     "output_type": "stream",
     "text": [
      "              precision    recall  f1-score   support\n",
      "\n",
      "           0       0.78      0.64      0.70        39\n",
      "           1       0.66      0.57      0.61        44\n",
      "           2       0.58      0.60      0.59        43\n",
      "           3       0.58      0.53      0.55        40\n",
      "           4       0.27      0.43      0.33        23\n",
      "           5       0.33      0.35      0.34        20\n",
      "           6       0.40      0.34      0.37        50\n",
      "           7       0.49      0.62      0.55        29\n",
      "\n",
      "    accuracy                           0.52       288\n",
      "   macro avg       0.51      0.51      0.51       288\n",
      "weighted avg       0.54      0.52      0.52       288\n",
      "\n"
     ]
    }
   ],
   "source": [
    "Log_Regressor(Non_Augmented,y_train,alltest,y_test)"
   ]
  },
  {
   "cell_type": "code",
   "execution_count": 242,
   "metadata": {},
   "outputs": [
    {
     "name": "stdout",
     "output_type": "stream",
     "text": [
      "              precision    recall  f1-score   support\n",
      "\n",
      "           0       0.59      0.51      0.55        37\n",
      "           1       0.66      0.49      0.56        51\n",
      "           2       0.42      0.61      0.50        31\n",
      "           3       0.56      0.43      0.49        46\n",
      "           4       0.22      0.22      0.22        37\n",
      "           5       0.05      0.17      0.07         6\n",
      "           6       0.36      0.60      0.45        25\n",
      "           7       0.65      0.44      0.52        55\n",
      "\n",
      "    accuracy                           0.45       288\n",
      "   macro avg       0.44      0.43      0.42       288\n",
      "weighted avg       0.51      0.45      0.47       288\n",
      "\n"
     ]
    }
   ],
   "source": [
    "PAClassifier(Non_Augmented,y_train,alltest,y_test)"
   ]
  },
  {
   "cell_type": "code",
   "execution_count": 243,
   "metadata": {},
   "outputs": [
    {
     "name": "stdout",
     "output_type": "stream",
     "text": [
      "              precision    recall  f1-score   support\n",
      "\n",
      "           0       0.56      0.56      0.56        32\n",
      "           1       0.61      0.74      0.67        31\n",
      "           2       0.76      0.76      0.76        45\n",
      "           3       0.64      0.64      0.64        36\n",
      "           4       0.49      0.53      0.51        34\n",
      "           5       0.71      0.62      0.67        24\n",
      "           6       0.60      0.57      0.58        44\n",
      "           7       0.73      0.64      0.68        42\n",
      "\n",
      "    accuracy                           0.64       288\n",
      "   macro avg       0.64      0.63      0.63       288\n",
      "weighted avg       0.64      0.64      0.64       288\n",
      "\n"
     ]
    }
   ],
   "source": [
    "KNN(Non_Augmented,y_train,alltest,y_test)"
   ]
  },
  {
   "cell_type": "code",
   "execution_count": 244,
   "metadata": {},
   "outputs": [
    {
     "name": "stdout",
     "output_type": "stream",
     "text": [
      "Model: \"sequential_16\"\n",
      "_________________________________________________________________\n",
      "Layer (type)                 Output Shape              Param #   \n",
      "=================================================================\n",
      "conv1d_42 (Conv1D)           (None, 200, 32)           128       \n",
      "_________________________________________________________________\n",
      "conv1d_43 (Conv1D)           (None, 200, 64)           6208      \n",
      "_________________________________________________________________\n",
      "dropout_18 (Dropout)         (None, 200, 64)           0         \n",
      "_________________________________________________________________\n",
      "batch_normalization_14 (Batc (None, 200, 64)           256       \n",
      "_________________________________________________________________\n",
      "max_pooling1d_14 (MaxPooling (None, 99, 64)            0         \n",
      "_________________________________________________________________\n",
      "conv1d_44 (Conv1D)           (None, 99, 128)           24704     \n",
      "_________________________________________________________________\n",
      "flatten_14 (Flatten)         (None, 12672)             0         \n",
      "_________________________________________________________________\n",
      "dense_20 (Dense)             (None, 8)                 101384    \n",
      "=================================================================\n",
      "Total params: 132,680\n",
      "Trainable params: 132,552\n",
      "Non-trainable params: 128\n",
      "_________________________________________________________________\n",
      "None\n",
      "Epoch 1/40\n",
      "1/9 [==>...........................] - ETA: 0s - loss: 2.7378 - accuracy: 0.1406"
     ]
    },
    {
     "name": "stderr",
     "output_type": "stream",
     "text": [
      "C:\\Users\\Aaditya Baranwal\\AppData\\Local\\Programs\\Python\\Python39\\lib\\site-packages\\tensorflow\\python\\data\\ops\\dataset_ops.py:3703: UserWarning: Even though the `tf.config.experimental_run_functions_eagerly` option is set, this option does not apply to tf.data functions. To force eager execution of tf.data functions, please use `tf.data.experimental.enable.debug_mode()`.\n",
      "  warnings.warn(\n"
     ]
    },
    {
     "name": "stdout",
     "output_type": "stream",
     "text": [
      "9/9 [==============================] - 1s 117ms/step - loss: 2.2319 - accuracy: 0.2413 - val_loss: 1.9783 - val_accuracy: 0.2604\n",
      "Epoch 2/40\n",
      "9/9 [==============================] - 1s 115ms/step - loss: 1.5829 - accuracy: 0.4132 - val_loss: 1.9586 - val_accuracy: 0.3090\n",
      "Epoch 3/40\n",
      "9/9 [==============================] - 1s 118ms/step - loss: 1.3666 - accuracy: 0.4844 - val_loss: 1.9215 - val_accuracy: 0.3264\n",
      "Epoch 4/40\n",
      "9/9 [==============================] - 1s 114ms/step - loss: 1.2172 - accuracy: 0.5443 - val_loss: 1.8829 - val_accuracy: 0.3646\n",
      "Epoch 5/40\n",
      "9/9 [==============================] - 1s 114ms/step - loss: 1.1067 - accuracy: 0.6024 - val_loss: 1.8553 - val_accuracy: 0.3785\n",
      "Epoch 6/40\n",
      "9/9 [==============================] - 1s 113ms/step - loss: 1.0248 - accuracy: 0.6259 - val_loss: 1.8389 - val_accuracy: 0.3646\n",
      "Epoch 7/40\n",
      "9/9 [==============================] - 1s 114ms/step - loss: 0.9114 - accuracy: 0.6667 - val_loss: 1.8301 - val_accuracy: 0.4271\n",
      "Epoch 8/40\n",
      "9/9 [==============================] - 1s 114ms/step - loss: 0.7852 - accuracy: 0.7465 - val_loss: 1.8087 - val_accuracy: 0.4653\n",
      "Epoch 9/40\n",
      "9/9 [==============================] - 1s 114ms/step - loss: 0.6939 - accuracy: 0.7604 - val_loss: 1.7846 - val_accuracy: 0.4271\n",
      "Epoch 10/40\n",
      "9/9 [==============================] - 1s 114ms/step - loss: 0.6261 - accuracy: 0.7977 - val_loss: 1.7588 - val_accuracy: 0.4410\n",
      "Epoch 11/40\n",
      "9/9 [==============================] - 1s 114ms/step - loss: 0.5638 - accuracy: 0.8142 - val_loss: 1.7376 - val_accuracy: 0.4618\n",
      "Epoch 12/40\n",
      "9/9 [==============================] - 1s 115ms/step - loss: 0.4928 - accuracy: 0.8351 - val_loss: 1.7284 - val_accuracy: 0.4826\n",
      "Epoch 13/40\n",
      "9/9 [==============================] - 1s 114ms/step - loss: 0.4370 - accuracy: 0.8759 - val_loss: 1.7134 - val_accuracy: 0.4236\n",
      "Epoch 14/40\n",
      "9/9 [==============================] - 1s 113ms/step - loss: 0.4036 - accuracy: 0.8932 - val_loss: 1.6803 - val_accuracy: 0.4444\n",
      "Epoch 15/40\n",
      "9/9 [==============================] - 1s 114ms/step - loss: 0.3453 - accuracy: 0.9045 - val_loss: 1.6377 - val_accuracy: 0.4931\n",
      "Epoch 16/40\n",
      "9/9 [==============================] - 1s 112ms/step - loss: 0.2846 - accuracy: 0.9366 - val_loss: 1.6150 - val_accuracy: 0.4792\n",
      "Epoch 17/40\n",
      "9/9 [==============================] - 1s 113ms/step - loss: 0.2773 - accuracy: 0.9236 - val_loss: 1.6086 - val_accuracy: 0.4340\n",
      "Epoch 18/40\n",
      "9/9 [==============================] - 1s 119ms/step - loss: 0.2613 - accuracy: 0.9271 - val_loss: 1.6070 - val_accuracy: 0.4167\n",
      "Epoch 19/40\n",
      "9/9 [==============================] - 1s 116ms/step - loss: 0.2421 - accuracy: 0.9375 - val_loss: 1.5726 - val_accuracy: 0.4931\n",
      "Epoch 20/40\n",
      "9/9 [==============================] - 1s 113ms/step - loss: 0.2155 - accuracy: 0.9375 - val_loss: 1.5806 - val_accuracy: 0.4688\n",
      "Epoch 21/40\n",
      "9/9 [==============================] - 1s 113ms/step - loss: 0.1893 - accuracy: 0.9497 - val_loss: 1.6174 - val_accuracy: 0.4167\n",
      "Epoch 22/40\n",
      "9/9 [==============================] - 1s 115ms/step - loss: 0.1876 - accuracy: 0.9531 - val_loss: 1.5888 - val_accuracy: 0.4062\n",
      "Epoch 23/40\n",
      "9/9 [==============================] - 1s 114ms/step - loss: 0.1514 - accuracy: 0.9679 - val_loss: 1.5473 - val_accuracy: 0.4722\n",
      "Epoch 24/40\n",
      "9/9 [==============================] - 1s 114ms/step - loss: 0.1438 - accuracy: 0.9670 - val_loss: 1.5147 - val_accuracy: 0.5104\n",
      "Epoch 25/40\n",
      "9/9 [==============================] - 1s 114ms/step - loss: 0.1357 - accuracy: 0.9679 - val_loss: 1.5667 - val_accuracy: 0.4375\n",
      "Epoch 26/40\n",
      "9/9 [==============================] - 1s 114ms/step - loss: 0.1179 - accuracy: 0.9783 - val_loss: 1.5467 - val_accuracy: 0.4340\n",
      "Epoch 27/40\n",
      "9/9 [==============================] - 1s 113ms/step - loss: 0.1013 - accuracy: 0.9783 - val_loss: 1.4990 - val_accuracy: 0.4618\n",
      "Epoch 28/40\n",
      "9/9 [==============================] - 1s 114ms/step - loss: 0.0967 - accuracy: 0.9844 - val_loss: 1.6266 - val_accuracy: 0.3924\n",
      "Epoch 29/40\n",
      "9/9 [==============================] - 1s 114ms/step - loss: 0.0799 - accuracy: 0.9887 - val_loss: 1.4891 - val_accuracy: 0.4653\n",
      "Epoch 30/40\n",
      "9/9 [==============================] - 1s 114ms/step - loss: 0.0706 - accuracy: 0.9887 - val_loss: 1.4737 - val_accuracy: 0.4653\n",
      "Epoch 31/40\n",
      "9/9 [==============================] - 1s 115ms/step - loss: 0.0730 - accuracy: 0.9905 - val_loss: 1.4854 - val_accuracy: 0.4653\n",
      "Epoch 32/40\n",
      "9/9 [==============================] - 1s 114ms/step - loss: 0.0594 - accuracy: 0.9905 - val_loss: 1.4437 - val_accuracy: 0.4688\n",
      "Epoch 33/40\n",
      "9/9 [==============================] - 1s 114ms/step - loss: 0.0623 - accuracy: 0.9861 - val_loss: 1.5223 - val_accuracy: 0.4340\n",
      "Epoch 34/40\n",
      "9/9 [==============================] - 1s 115ms/step - loss: 0.0622 - accuracy: 0.9896 - val_loss: 1.4695 - val_accuracy: 0.4826\n",
      "Epoch 35/40\n",
      "9/9 [==============================] - 1s 114ms/step - loss: 0.0685 - accuracy: 0.9826 - val_loss: 1.6227 - val_accuracy: 0.4306\n",
      "Epoch 36/40\n",
      "9/9 [==============================] - 1s 113ms/step - loss: 0.0570 - accuracy: 0.9922 - val_loss: 1.4007 - val_accuracy: 0.5382\n",
      "Epoch 37/40\n",
      "9/9 [==============================] - 1s 114ms/step - loss: 0.0566 - accuracy: 0.9870 - val_loss: 1.4116 - val_accuracy: 0.5243\n",
      "Epoch 38/40\n",
      "9/9 [==============================] - 1s 116ms/step - loss: 0.0421 - accuracy: 0.9922 - val_loss: 1.4867 - val_accuracy: 0.4826\n",
      "Epoch 39/40\n",
      "9/9 [==============================] - 1s 114ms/step - loss: 0.0415 - accuracy: 0.9965 - val_loss: 1.4435 - val_accuracy: 0.5347\n",
      "Epoch 40/40\n",
      "9/9 [==============================] - 1s 114ms/step - loss: 0.0330 - accuracy: 0.9957 - val_loss: 1.5090 - val_accuracy: 0.5035\n",
      "              precision    recall  f1-score   support\n",
      "\n",
      "           0       0.84      0.28      0.42        96\n",
      "           1       0.53      0.87      0.66        23\n",
      "           2       0.38      0.59      0.46        29\n",
      "           3       0.42      0.68      0.52        22\n",
      "           4       0.22      0.57      0.31        14\n",
      "           5       0.33      0.64      0.44        11\n",
      "           6       0.45      0.61      0.52        31\n",
      "           7       0.86      0.52      0.65        62\n",
      "\n",
      "    accuracy                           0.50       288\n",
      "   macro avg       0.50      0.59      0.50       288\n",
      "weighted avg       0.65      0.50      0.51       288\n",
      "\n"
     ]
    },
    {
     "name": "stderr",
     "output_type": "stream",
     "text": [
      "C:\\Users\\Aaditya Baranwal\\AppData\\Local\\Programs\\Python\\Python39\\lib\\site-packages\\tensorflow\\python\\data\\ops\\dataset_ops.py:3703: UserWarning: Even though the `tf.config.experimental_run_functions_eagerly` option is set, this option does not apply to tf.data functions. To force eager execution of tf.data functions, please use `tf.data.experimental.enable.debug_mode()`.\n",
      "  warnings.warn(\n"
     ]
    }
   ],
   "source": [
    "One_D_CNN(Non_Augmented,y_train,alltest,y_test)"
   ]
  },
  {
   "cell_type": "code",
   "execution_count": 205,
   "metadata": {},
   "outputs": [
    {
     "name": "stderr",
     "output_type": "stream",
     "text": [
      "C:\\Users\\Aaditya Baranwal\\AppData\\Local\\Programs\\Python\\Python39\\lib\\site-packages\\cupy\\_environment.py:213: UserWarning: CUDA path could not be detected. Set CUDA_PATH environment variable if CuPy fails to load.\n",
      "  warnings.warn(\n",
      "C:\\Users\\Aaditya Baranwal\\AppData\\Local\\Programs\\Python\\Python39\\lib\\site-packages\\xgboost\\sklearn.py:1224: UserWarning: The use of label encoder in XGBClassifier is deprecated and will be removed in a future release. To remove this warning, do the following: 1) Pass option use_label_encoder=False when constructing XGBClassifier object; and 2) Encode your labels (y) as integers starting with 0, i.e. 0, 1, 2, ..., [num_class - 1].\n",
      "  warnings.warn(label_encoder_deprecation_msg, UserWarning)\n"
     ]
    },
    {
     "name": "stdout",
     "output_type": "stream",
     "text": [
      "[11:20:18] WARNING: C:/Users/Administrator/workspace/xgboost-win64_release_1.5.1/src/learner.cc:1115: Starting in XGBoost 1.3.0, the default evaluation metric used with the objective 'multi:softprob' was changed from 'merror' to 'mlogloss'. Explicitly set eval_metric if you'd like to restore the old behavior.\n",
      "              precision    recall  f1-score   support\n",
      "\n",
      "           0       0.72      0.74      0.73        31\n",
      "           1       0.89      0.63      0.74        54\n",
      "           2       0.69      0.76      0.72        41\n",
      "           3       0.64      0.74      0.69        31\n",
      "           4       0.51      0.50      0.51        38\n",
      "           5       0.38      0.47      0.42        17\n",
      "           6       0.67      0.65      0.66        43\n",
      "           7       0.57      0.64      0.60        33\n",
      "\n",
      "    accuracy                           0.65       288\n",
      "   macro avg       0.63      0.64      0.63       288\n",
      "weighted avg       0.67      0.65      0.65       288\n",
      "\n"
     ]
    }
   ],
   "source": [
    "XGBC(Non_Augmented,y_train,alltest,y_test)"
   ]
  },
  {
   "cell_type": "code",
   "execution_count": null,
   "metadata": {},
   "outputs": [],
   "source": [
    "LSTM_model(Non_Augmented,y_train,alltest,y_test)"
   ]
  },
  {
   "cell_type": "markdown",
   "metadata": {},
   "source": [
    "## Augmented"
   ]
  },
  {
   "cell_type": "code",
   "execution_count": 25,
   "metadata": {},
   "outputs": [
    {
     "name": "stdout",
     "output_type": "stream",
     "text": [
      "              precision    recall  f1-score   support\n",
      "\n",
      "           0       0.56      0.83      0.67        23\n",
      "           1       0.92      0.65      0.76        52\n",
      "           2       0.62      0.68      0.65        34\n",
      "           3       0.55      0.70      0.62        37\n",
      "           4       0.59      0.56      0.58        39\n",
      "           5       0.53      0.43      0.47        21\n",
      "           6       0.59      0.61      0.60        36\n",
      "           7       0.79      0.72      0.75        46\n",
      "\n",
      "    accuracy                           0.65       288\n",
      "   macro avg       0.64      0.65      0.64       288\n",
      "weighted avg       0.67      0.65      0.66       288\n",
      "\n"
     ]
    }
   ],
   "source": [
    "ShallowMLP(np.r_[Non_Augmented,noised,rolled,stretched,pitched],np.r_[y_train,y_train,y_train,y_train,y_train],alltest,y_test)"
   ]
  },
  {
   "cell_type": "code",
   "execution_count": 26,
   "metadata": {},
   "outputs": [
    {
     "name": "stdout",
     "output_type": "stream",
     "text": [
      "              precision    recall  f1-score   support\n",
      "\n",
      "           0       0.76      0.65      0.70        40\n",
      "           1       0.86      0.67      0.75        48\n",
      "           2       0.57      0.68      0.62        31\n",
      "           3       0.74      0.83      0.79        42\n",
      "           4       0.49      0.64      0.55        28\n",
      "           5       0.53      0.47      0.50        19\n",
      "           6       0.59      0.63      0.61        35\n",
      "           7       0.74      0.69      0.71        45\n",
      "\n",
      "    accuracy                           0.67       288\n",
      "   macro avg       0.66      0.66      0.65       288\n",
      "weighted avg       0.69      0.67      0.68       288\n",
      "\n"
     ]
    }
   ],
   "source": [
    "SVM_Model(np.r_[Non_Augmented,noised,rolled,stretched,pitched],np.r_[y_train,y_train,y_train,y_train,y_train],alltest,y_test)"
   ]
  },
  {
   "cell_type": "code",
   "execution_count": 210,
   "metadata": {},
   "outputs": [
    {
     "name": "stdout",
     "output_type": "stream",
     "text": [
      "              precision    recall  f1-score   support\n",
      "\n",
      "           0       0.75      0.60      0.67        40\n",
      "           1       0.55      0.50      0.53        42\n",
      "           2       0.53      0.59      0.56        41\n",
      "           3       0.61      0.50      0.55        44\n",
      "           4       0.32      0.44      0.38        27\n",
      "           5       0.33      0.37      0.35        19\n",
      "           6       0.40      0.39      0.40        44\n",
      "           7       0.46      0.55      0.50        31\n",
      "\n",
      "    accuracy                           0.50       288\n",
      "   macro avg       0.50      0.49      0.49       288\n",
      "weighted avg       0.52      0.50      0.51       288\n",
      "\n"
     ]
    }
   ],
   "source": [
    "Log_Regressor(np.r_[Non_Augmented,noised,rolled,stretched,pitched],np.r_[y_train,y_train,y_train,y_train,y_train],alltest,y_test)"
   ]
  },
  {
   "cell_type": "code",
   "execution_count": 211,
   "metadata": {},
   "outputs": [
    {
     "name": "stdout",
     "output_type": "stream",
     "text": [
      "              precision    recall  f1-score   support\n",
      "\n",
      "           0       0.59      0.58      0.58        33\n",
      "           1       0.50      0.43      0.46        44\n",
      "           2       0.58      0.47      0.52        55\n",
      "           3       0.47      0.40      0.43        43\n",
      "           4       0.35      0.43      0.39        30\n",
      "           5       0.29      0.35      0.32        17\n",
      "           6       0.24      0.33      0.28        30\n",
      "           7       0.41      0.42      0.41        36\n",
      "\n",
      "    accuracy                           0.43       288\n",
      "   macro avg       0.43      0.43      0.42       288\n",
      "weighted avg       0.45      0.43      0.44       288\n",
      "\n"
     ]
    }
   ],
   "source": [
    "PAClassifier(np.r_[Non_Augmented,noised,rolled,stretched,pitched],np.r_[y_train,y_train,y_train,y_train,y_train],alltest,y_test)"
   ]
  },
  {
   "cell_type": "code",
   "execution_count": 212,
   "metadata": {},
   "outputs": [
    {
     "name": "stdout",
     "output_type": "stream",
     "text": [
      "              precision    recall  f1-score   support\n",
      "\n",
      "           0       0.56      0.56      0.56        32\n",
      "           1       0.61      0.74      0.67        31\n",
      "           2       0.76      0.76      0.76        45\n",
      "           3       0.64      0.64      0.64        36\n",
      "           4       0.49      0.53      0.51        34\n",
      "           5       0.71      0.62      0.67        24\n",
      "           6       0.60      0.57      0.58        44\n",
      "           7       0.73      0.64      0.68        42\n",
      "\n",
      "    accuracy                           0.64       288\n",
      "   macro avg       0.64      0.63      0.63       288\n",
      "weighted avg       0.64      0.64      0.64       288\n",
      "\n"
     ]
    }
   ],
   "source": [
    "KNN(np.r_[Non_Augmented,noised,rolled,stretched,pitched],np.r_[y_train,y_train,y_train,y_train,y_train],alltest,y_test)"
   ]
  },
  {
   "cell_type": "code",
   "execution_count": 249,
   "metadata": {},
   "outputs": [
    {
     "name": "stdout",
     "output_type": "stream",
     "text": [
      "Model: \"sequential_19\"\n",
      "_________________________________________________________________\n",
      "Layer (type)                 Output Shape              Param #   \n",
      "=================================================================\n",
      "conv1d_51 (Conv1D)           (None, 200, 32)           128       \n",
      "_________________________________________________________________\n",
      "conv1d_52 (Conv1D)           (None, 200, 64)           6208      \n",
      "_________________________________________________________________\n",
      "dropout_21 (Dropout)         (None, 200, 64)           0         \n",
      "_________________________________________________________________\n",
      "batch_normalization_17 (Batc (None, 200, 64)           256       \n",
      "_________________________________________________________________\n",
      "max_pooling1d_17 (MaxPooling (None, 99, 64)            0         \n",
      "_________________________________________________________________\n",
      "conv1d_53 (Conv1D)           (None, 99, 128)           24704     \n",
      "_________________________________________________________________\n",
      "flatten_17 (Flatten)         (None, 12672)             0         \n",
      "_________________________________________________________________\n",
      "dense_23 (Dense)             (None, 8)                 101384    \n",
      "=================================================================\n",
      "Total params: 132,680\n",
      "Trainable params: 132,552\n",
      "Non-trainable params: 128\n",
      "_________________________________________________________________\n",
      "None\n",
      "Epoch 1/40\n",
      " 1/45 [..............................] - ETA: 4s - loss: 2.4791 - accuracy: 0.1094"
     ]
    },
    {
     "name": "stderr",
     "output_type": "stream",
     "text": [
      "C:\\Users\\Aaditya Baranwal\\AppData\\Local\\Programs\\Python\\Python39\\lib\\site-packages\\tensorflow\\python\\data\\ops\\dataset_ops.py:3703: UserWarning: Even though the `tf.config.experimental_run_functions_eagerly` option is set, this option does not apply to tf.data functions. To force eager execution of tf.data functions, please use `tf.data.experimental.enable.debug_mode()`.\n",
      "  warnings.warn(\n"
     ]
    },
    {
     "name": "stdout",
     "output_type": "stream",
     "text": [
      "45/45 [==============================] - 5s 103ms/step - loss: 1.4785 - accuracy: 0.4616 - val_loss: 1.8686 - val_accuracy: 0.3299\n",
      "Epoch 2/40\n",
      "45/45 [==============================] - 5s 104ms/step - loss: 0.8534 - accuracy: 0.7031 - val_loss: 1.7682 - val_accuracy: 0.4479\n",
      "Epoch 3/40\n",
      "45/45 [==============================] - 5s 101ms/step - loss: 0.5096 - accuracy: 0.8335 - val_loss: 1.6861 - val_accuracy: 0.4271\n",
      "Epoch 4/40\n",
      "45/45 [==============================] - 5s 101ms/step - loss: 0.3078 - accuracy: 0.9073 - val_loss: 1.6347 - val_accuracy: 0.4236\n",
      "Epoch 5/40\n",
      "45/45 [==============================] - 5s 102ms/step - loss: 0.1795 - accuracy: 0.9550 - val_loss: 1.6712 - val_accuracy: 0.3715\n",
      "Epoch 6/40\n",
      "45/45 [==============================] - 5s 101ms/step - loss: 0.1233 - accuracy: 0.9715 - val_loss: 1.6631 - val_accuracy: 0.4271\n",
      "Epoch 7/40\n",
      "45/45 [==============================] - 5s 101ms/step - loss: 0.0895 - accuracy: 0.9807 - val_loss: 1.6703 - val_accuracy: 0.4583\n",
      "Epoch 8/40\n",
      "45/45 [==============================] - 5s 102ms/step - loss: 0.0655 - accuracy: 0.9856 - val_loss: 1.6952 - val_accuracy: 0.4514\n",
      "Epoch 9/40\n",
      "45/45 [==============================] - 5s 104ms/step - loss: 0.0532 - accuracy: 0.9887 - val_loss: 1.6952 - val_accuracy: 0.5278\n",
      "Epoch 10/40\n",
      "45/45 [==============================] - 5s 106ms/step - loss: 0.0345 - accuracy: 0.9939 - val_loss: 1.6183 - val_accuracy: 0.5972\n",
      "Epoch 11/40\n",
      "45/45 [==============================] - 5s 104ms/step - loss: 0.0283 - accuracy: 0.9965 - val_loss: 1.7138 - val_accuracy: 0.5764\n",
      "Epoch 12/40\n",
      "45/45 [==============================] - 5s 104ms/step - loss: 0.0244 - accuracy: 0.9958 - val_loss: 2.0345 - val_accuracy: 0.5521\n",
      "Epoch 13/40\n",
      "45/45 [==============================] - 5s 101ms/step - loss: 0.0280 - accuracy: 0.9937 - val_loss: 2.0550 - val_accuracy: 0.5729\n",
      "Epoch 14/40\n",
      "45/45 [==============================] - 5s 105ms/step - loss: 0.0431 - accuracy: 0.9896 - val_loss: 2.5773 - val_accuracy: 0.5139\n",
      "Epoch 15/40\n",
      "45/45 [==============================] - 5s 104ms/step - loss: 0.0354 - accuracy: 0.9913 - val_loss: 2.5471 - val_accuracy: 0.5625\n",
      "Epoch 16/40\n",
      "45/45 [==============================] - 5s 103ms/step - loss: 0.0151 - accuracy: 0.9979 - val_loss: 2.2461 - val_accuracy: 0.5590\n",
      "Epoch 17/40\n",
      "45/45 [==============================] - 5s 106ms/step - loss: 0.0231 - accuracy: 0.9951 - val_loss: 2.3979 - val_accuracy: 0.5799\n",
      "Epoch 18/40\n",
      "45/45 [==============================] - 5s 105ms/step - loss: 0.0275 - accuracy: 0.9936 - val_loss: 2.3212 - val_accuracy: 0.6042\n",
      "Epoch 19/40\n",
      "45/45 [==============================] - 5s 104ms/step - loss: 0.0123 - accuracy: 0.9988 - val_loss: 2.3876 - val_accuracy: 0.6250\n",
      "Epoch 20/40\n",
      "45/45 [==============================] - 5s 104ms/step - loss: 0.0078 - accuracy: 0.9993 - val_loss: 2.5902 - val_accuracy: 0.5764\n",
      "Epoch 21/40\n",
      "45/45 [==============================] - 5s 103ms/step - loss: 0.0054 - accuracy: 0.9993 - val_loss: 2.6898 - val_accuracy: 0.5903\n",
      "Epoch 22/40\n",
      "45/45 [==============================] - 5s 101ms/step - loss: 0.0063 - accuracy: 0.9995 - val_loss: 3.0112 - val_accuracy: 0.5660\n",
      "Epoch 23/40\n",
      "45/45 [==============================] - 5s 101ms/step - loss: 0.0115 - accuracy: 0.9965 - val_loss: 2.9633 - val_accuracy: 0.5625\n",
      "Epoch 24/40\n",
      "45/45 [==============================] - 5s 101ms/step - loss: 0.0204 - accuracy: 0.9934 - val_loss: 2.9718 - val_accuracy: 0.5764\n",
      "Epoch 25/40\n",
      "45/45 [==============================] - 5s 105ms/step - loss: 0.0138 - accuracy: 0.9970 - val_loss: 3.4088 - val_accuracy: 0.5486\n",
      "Epoch 26/40\n",
      "45/45 [==============================] - 5s 103ms/step - loss: 0.0337 - accuracy: 0.9936 - val_loss: 3.3304 - val_accuracy: 0.5556\n",
      "Epoch 27/40\n",
      "45/45 [==============================] - 5s 102ms/step - loss: 0.0372 - accuracy: 0.9903 - val_loss: 3.2945 - val_accuracy: 0.5590\n",
      "Epoch 28/40\n",
      "45/45 [==============================] - 5s 102ms/step - loss: 0.0248 - accuracy: 0.9932 - val_loss: 3.0172 - val_accuracy: 0.5625\n",
      "Epoch 29/40\n",
      "45/45 [==============================] - 5s 102ms/step - loss: 0.0211 - accuracy: 0.9950 - val_loss: 3.2498 - val_accuracy: 0.5208\n",
      "Epoch 30/40\n",
      "45/45 [==============================] - 5s 101ms/step - loss: 0.0075 - accuracy: 0.9986 - val_loss: 2.8323 - val_accuracy: 0.5556\n",
      "Epoch 31/40\n",
      "45/45 [==============================] - 5s 100ms/step - loss: 0.0078 - accuracy: 0.9979 - val_loss: 2.9233 - val_accuracy: 0.5938\n",
      "Epoch 32/40\n",
      "45/45 [==============================] - 5s 104ms/step - loss: 0.0039 - accuracy: 0.9995 - val_loss: 3.0423 - val_accuracy: 0.5938\n",
      "Epoch 33/40\n",
      "45/45 [==============================] - 5s 103ms/step - loss: 0.0026 - accuracy: 0.9997 - val_loss: 3.3123 - val_accuracy: 0.5903\n",
      "Epoch 34/40\n",
      "45/45 [==============================] - 5s 103ms/step - loss: 0.0021 - accuracy: 0.9998 - val_loss: 3.0862 - val_accuracy: 0.6146\n",
      "Epoch 35/40\n",
      "45/45 [==============================] - 5s 101ms/step - loss: 0.0023 - accuracy: 0.9995 - val_loss: 3.2814 - val_accuracy: 0.5868\n",
      "Epoch 36/40\n",
      "45/45 [==============================] - 5s 104ms/step - loss: 0.0022 - accuracy: 1.0000 - val_loss: 3.0622 - val_accuracy: 0.5799\n",
      "Epoch 37/40\n",
      "45/45 [==============================] - 5s 107ms/step - loss: 0.0017 - accuracy: 0.9998 - val_loss: 3.1925 - val_accuracy: 0.5903\n",
      "Epoch 38/40\n",
      "45/45 [==============================] - 5s 104ms/step - loss: 0.0021 - accuracy: 0.9998 - val_loss: 3.2828 - val_accuracy: 0.5868\n",
      "Epoch 39/40\n",
      "45/45 [==============================] - 5s 104ms/step - loss: 0.0117 - accuracy: 0.9958 - val_loss: 3.1523 - val_accuracy: 0.5486\n",
      "Epoch 40/40\n",
      "45/45 [==============================] - 5s 108ms/step - loss: 0.0184 - accuracy: 0.9951 - val_loss: 3.1428 - val_accuracy: 0.5486\n",
      "              precision    recall  f1-score   support\n",
      "\n",
      "           0       0.75      0.43      0.55        56\n",
      "           1       0.71      0.66      0.68        41\n",
      "           2       0.42      0.83      0.56        23\n",
      "           3       0.53      0.49      0.51        39\n",
      "           4       0.32      0.35      0.34        34\n",
      "           5       0.33      0.58      0.42        12\n",
      "           6       0.60      0.62      0.61        40\n",
      "           7       0.68      0.58      0.63        43\n",
      "\n",
      "    accuracy                           0.55       288\n",
      "   macro avg       0.54      0.57      0.54       288\n",
      "weighted avg       0.59      0.55      0.55       288\n",
      "\n"
     ]
    },
    {
     "name": "stderr",
     "output_type": "stream",
     "text": [
      "C:\\Users\\Aaditya Baranwal\\AppData\\Local\\Programs\\Python\\Python39\\lib\\site-packages\\tensorflow\\python\\data\\ops\\dataset_ops.py:3703: UserWarning: Even though the `tf.config.experimental_run_functions_eagerly` option is set, this option does not apply to tf.data functions. To force eager execution of tf.data functions, please use `tf.data.experimental.enable.debug_mode()`.\n",
      "  warnings.warn(\n"
     ]
    }
   ],
   "source": [
    "One_D_CNN(np.r_[Non_Augmented,noised,rolled,stretched,pitched],np.r_[y_train,y_train,y_train,y_train,y_train],alltest,y_test)"
   ]
  },
  {
   "cell_type": "code",
   "execution_count": 213,
   "metadata": {},
   "outputs": [
    {
     "name": "stderr",
     "output_type": "stream",
     "text": [
      "C:\\Users\\Aaditya Baranwal\\AppData\\Local\\Programs\\Python\\Python39\\lib\\site-packages\\cupy\\_environment.py:213: UserWarning: CUDA path could not be detected. Set CUDA_PATH environment variable if CuPy fails to load.\n",
      "  warnings.warn(\n",
      "C:\\Users\\Aaditya Baranwal\\AppData\\Local\\Programs\\Python\\Python39\\lib\\site-packages\\xgboost\\sklearn.py:1224: UserWarning: The use of label encoder in XGBClassifier is deprecated and will be removed in a future release. To remove this warning, do the following: 1) Pass option use_label_encoder=False when constructing XGBClassifier object; and 2) Encode your labels (y) as integers starting with 0, i.e. 0, 1, 2, ..., [num_class - 1].\n",
      "  warnings.warn(label_encoder_deprecation_msg, UserWarning)\n"
     ]
    },
    {
     "name": "stdout",
     "output_type": "stream",
     "text": [
      "[11:26:29] WARNING: C:/Users/Administrator/workspace/xgboost-win64_release_1.5.1/src/learner.cc:1115: Starting in XGBoost 1.3.0, the default evaluation metric used with the objective 'multi:softprob' was changed from 'merror' to 'mlogloss'. Explicitly set eval_metric if you'd like to restore the old behavior.\n",
      "              precision    recall  f1-score   support\n",
      "\n",
      "           0       0.72      0.74      0.73        31\n",
      "           1       0.87      0.63      0.73        52\n",
      "           2       0.64      0.71      0.67        41\n",
      "           3       0.61      0.71      0.66        31\n",
      "           4       0.54      0.56      0.55        36\n",
      "           5       0.48      0.50      0.49        20\n",
      "           6       0.62      0.55      0.58        47\n",
      "           7       0.54      0.67      0.60        30\n",
      "\n",
      "    accuracy                           0.64       288\n",
      "   macro avg       0.63      0.63      0.63       288\n",
      "weighted avg       0.65      0.64      0.64       288\n",
      "\n"
     ]
    }
   ],
   "source": [
    "XGBC(np.r_[Non_Augmented,noised,rolled,stretched,pitched],np.r_[y_train,y_train,y_train,y_train,y_train],alltest,y_test)"
   ]
  },
  {
   "cell_type": "markdown",
   "metadata": {},
   "source": [
    "## END"
   ]
  }
 ],
 "metadata": {
  "interpreter": {
   "hash": "dc6cb71d57e3d7a1cf832a75ee7d91eb7c9c86cbec0d89313bbdeba96ca95d9c"
  },
  "kernelspec": {
   "display_name": "Python 3.9.6 64-bit",
   "language": "python",
   "name": "python3"
  },
  "language_info": {
   "codemirror_mode": {
    "name": "ipython",
    "version": 3
   },
   "file_extension": ".py",
   "mimetype": "text/x-python",
   "name": "python",
   "nbconvert_exporter": "python",
   "pygments_lexer": "ipython3",
   "version": "3.10.4"
  },
  "orig_nbformat": 4
 },
 "nbformat": 4,
 "nbformat_minor": 2
}
